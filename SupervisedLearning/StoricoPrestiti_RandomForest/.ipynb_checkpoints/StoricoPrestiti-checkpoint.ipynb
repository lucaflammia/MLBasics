{
 "cells": [
  {
   "cell_type": "code",
   "execution_count": 1,
   "metadata": {},
   "outputs": [
    {
     "data": {
      "text/html": [
       "<div>\n",
       "<style scoped>\n",
       "    .dataframe tbody tr th:only-of-type {\n",
       "        vertical-align: middle;\n",
       "    }\n",
       "\n",
       "    .dataframe tbody tr th {\n",
       "        vertical-align: top;\n",
       "    }\n",
       "\n",
       "    .dataframe thead th {\n",
       "        text-align: right;\n",
       "    }\n",
       "</style>\n",
       "<table border=\"1\" class=\"dataframe\">\n",
       "  <thead>\n",
       "    <tr style=\"text-align: right;\">\n",
       "      <th></th>\n",
       "      <th>importo</th>\n",
       "      <th>livello</th>\n",
       "      <th>durata</th>\n",
       "      <th>tipologia</th>\n",
       "      <th>saldo</th>\n",
       "      <th>eta</th>\n",
       "      <th>estinto</th>\n",
       "    </tr>\n",
       "  </thead>\n",
       "  <tbody>\n",
       "    <tr>\n",
       "      <th>0</th>\n",
       "      <td>1000</td>\n",
       "      <td>B</td>\n",
       "      <td>2.00</td>\n",
       "      <td>Elettrodomestici</td>\n",
       "      <td>375.92</td>\n",
       "      <td>24</td>\n",
       "      <td>0</td>\n",
       "    </tr>\n",
       "    <tr>\n",
       "      <th>1</th>\n",
       "      <td>6500</td>\n",
       "      <td>A</td>\n",
       "      <td>2.00</td>\n",
       "      <td>Autovettura</td>\n",
       "      <td>1530.26</td>\n",
       "      <td>28</td>\n",
       "      <td>1</td>\n",
       "    </tr>\n",
       "    <tr>\n",
       "      <th>2</th>\n",
       "      <td>2400</td>\n",
       "      <td>A</td>\n",
       "      <td>2.00</td>\n",
       "      <td>Elettrodomestici</td>\n",
       "      <td>1382.27</td>\n",
       "      <td>36</td>\n",
       "      <td>0</td>\n",
       "    </tr>\n",
       "    <tr>\n",
       "      <th>3</th>\n",
       "      <td>10000</td>\n",
       "      <td>C</td>\n",
       "      <td>3.00</td>\n",
       "      <td>Elettrodomestici</td>\n",
       "      <td>1431.60</td>\n",
       "      <td>24</td>\n",
       "      <td>0</td>\n",
       "    </tr>\n",
       "    <tr>\n",
       "      <th>4</th>\n",
       "      <td>4000</td>\n",
       "      <td>C</td>\n",
       "      <td>2.00</td>\n",
       "      <td>Elettrodomestici</td>\n",
       "      <td>395.65</td>\n",
       "      <td>28</td>\n",
       "      <td>1</td>\n",
       "    </tr>\n",
       "  </tbody>\n",
       "</table>\n",
       "</div>"
      ],
      "text/plain": [
       "   importo livello  durata         tipologia   saldo  eta  estinto\n",
       "0     1000       B    2.00  Elettrodomestici  375.92   24        0\n",
       "1     6500       A    2.00       Autovettura 1530.26   28        1\n",
       "2     2400       A    2.00  Elettrodomestici 1382.27   36        0\n",
       "3    10000       C    3.00  Elettrodomestici 1431.60   24        0\n",
       "4     4000       C    2.00  Elettrodomestici  395.65   28        1"
      ]
     },
     "execution_count": 1,
     "metadata": {},
     "output_type": "execute_result"
    }
   ],
   "source": [
    "import pandas as pd\n",
    "\n",
    "# i numeri li voglio vedere con due cifre decimali\n",
    "pd.set_option('display.float_format', lambda x: '{0:.2f}'.format(x))\n",
    "\n",
    "df = pd.read_csv(\"storico_prestiti.csv\")\n",
    "df.head()"
   ]
  },
  {
   "cell_type": "code",
   "execution_count": 2,
   "metadata": {},
   "outputs": [
    {
     "data": {
      "text/html": [
       "<div>\n",
       "<style scoped>\n",
       "    .dataframe tbody tr th:only-of-type {\n",
       "        vertical-align: middle;\n",
       "    }\n",
       "\n",
       "    .dataframe tbody tr th {\n",
       "        vertical-align: top;\n",
       "    }\n",
       "\n",
       "    .dataframe thead th {\n",
       "        text-align: right;\n",
       "    }\n",
       "</style>\n",
       "<table border=\"1\" class=\"dataframe\">\n",
       "  <thead>\n",
       "    <tr style=\"text-align: right;\">\n",
       "      <th></th>\n",
       "      <th>importo</th>\n",
       "      <th>durata</th>\n",
       "      <th>saldo</th>\n",
       "      <th>eta</th>\n",
       "      <th>estinto</th>\n",
       "    </tr>\n",
       "  </thead>\n",
       "  <tbody>\n",
       "    <tr>\n",
       "      <th>count</th>\n",
       "      <td>7727.00</td>\n",
       "      <td>7448.00</td>\n",
       "      <td>7727.00</td>\n",
       "      <td>7727.00</td>\n",
       "      <td>7727.00</td>\n",
       "    </tr>\n",
       "    <tr>\n",
       "      <th>mean</th>\n",
       "      <td>9453.35</td>\n",
       "      <td>6.09</td>\n",
       "      <td>1465.44</td>\n",
       "      <td>27.54</td>\n",
       "      <td>0.48</td>\n",
       "    </tr>\n",
       "    <tr>\n",
       "      <th>std</th>\n",
       "      <td>6298.60</td>\n",
       "      <td>6.70</td>\n",
       "      <td>1156.12</td>\n",
       "      <td>6.13</td>\n",
       "      <td>0.50</td>\n",
       "    </tr>\n",
       "    <tr>\n",
       "      <th>min</th>\n",
       "      <td>500.00</td>\n",
       "      <td>0.00</td>\n",
       "      <td>1.00</td>\n",
       "      <td>20.00</td>\n",
       "      <td>0.00</td>\n",
       "    </tr>\n",
       "    <tr>\n",
       "      <th>25%</th>\n",
       "      <td>5000.00</td>\n",
       "      <td>2.00</td>\n",
       "      <td>814.96</td>\n",
       "      <td>23.00</td>\n",
       "      <td>0.00</td>\n",
       "    </tr>\n",
       "    <tr>\n",
       "      <th>50%</th>\n",
       "      <td>8000.00</td>\n",
       "      <td>4.00</td>\n",
       "      <td>1234.28</td>\n",
       "      <td>26.00</td>\n",
       "      <td>0.00</td>\n",
       "    </tr>\n",
       "    <tr>\n",
       "      <th>75%</th>\n",
       "      <td>12000.00</td>\n",
       "      <td>8.00</td>\n",
       "      <td>1796.57</td>\n",
       "      <td>30.00</td>\n",
       "      <td>1.00</td>\n",
       "    </tr>\n",
       "    <tr>\n",
       "      <th>max</th>\n",
       "      <td>35000.00</td>\n",
       "      <td>62.00</td>\n",
       "      <td>29501.00</td>\n",
       "      <td>94.00</td>\n",
       "      <td>1.00</td>\n",
       "    </tr>\n",
       "  </tbody>\n",
       "</table>\n",
       "</div>"
      ],
      "text/plain": [
       "       importo  durata    saldo     eta  estinto\n",
       "count  7727.00 7448.00  7727.00 7727.00  7727.00\n",
       "mean   9453.35    6.09  1465.44   27.54     0.48\n",
       "std    6298.60    6.70  1156.12    6.13     0.50\n",
       "min     500.00    0.00     1.00   20.00     0.00\n",
       "25%    5000.00    2.00   814.96   23.00     0.00\n",
       "50%    8000.00    4.00  1234.28   26.00     0.00\n",
       "75%   12000.00    8.00  1796.57   30.00     1.00\n",
       "max   35000.00   62.00 29501.00   94.00     1.00"
      ]
     },
     "execution_count": 2,
     "metadata": {},
     "output_type": "execute_result"
    }
   ],
   "source": [
    "df.describe()"
   ]
  },
  {
   "cell_type": "code",
   "execution_count": 3,
   "metadata": {},
   "outputs": [
    {
     "data": {
      "text/plain": [
       "importo        0\n",
       "livello        0\n",
       "durata       279\n",
       "tipologia      0\n",
       "saldo          0\n",
       "eta            0\n",
       "estinto        0\n",
       "dtype: int64"
      ]
     },
     "execution_count": 3,
     "metadata": {},
     "output_type": "execute_result"
    }
   ],
   "source": [
    "df.isnull().sum()"
   ]
  },
  {
   "cell_type": "code",
   "execution_count": 4,
   "metadata": {},
   "outputs": [
    {
     "data": {
      "text/plain": [
       "array([ 2.       ,  3.       ,  1.       ,  6.       ,  4.       ,\n",
       "        0.       , 16.       , 12.       , 11.       , 15.       ,\n",
       "        6.0863319, 18.       ,  8.       ,  7.       , 34.       ,\n",
       "        9.       , 14.       ,  5.       , 10.       , 20.       ,\n",
       "       26.       , 19.       , 24.       , 61.       , 27.       ,\n",
       "       21.       , 13.       , 30.       , 23.       , 22.       ,\n",
       "       31.       , 25.       , 17.       , 38.       , 28.       ,\n",
       "       29.       , 56.       , 47.       , 45.       , 43.       ,\n",
       "       32.       , 33.       , 36.       , 40.       , 44.       ,\n",
       "       53.       , 41.       , 55.       , 62.       , 48.       ,\n",
       "       37.       , 35.       ])"
      ]
     },
     "execution_count": 4,
     "metadata": {},
     "output_type": "execute_result"
    }
   ],
   "source": [
    "import numpy as np\n",
    "\n",
    "df.durata = df.durata.fillna(np.mean(df.durata))\n",
    "pd.unique(df.durata)"
   ]
  },
  {
   "cell_type": "code",
   "execution_count": 5,
   "metadata": {},
   "outputs": [
    {
     "data": {
      "text/plain": [
       "importo        int64\n",
       "livello       object\n",
       "durata       float64\n",
       "tipologia     object\n",
       "saldo        float64\n",
       "eta            int64\n",
       "estinto        int64\n",
       "dtype: object"
      ]
     },
     "execution_count": 5,
     "metadata": {},
     "output_type": "execute_result"
    }
   ],
   "source": [
    "df.dtypes"
   ]
  },
  {
   "cell_type": "code",
   "execution_count": 6,
   "metadata": {},
   "outputs": [
    {
     "data": {
      "text/plain": [
       "array(['B', 'A', 'C', 'D', 'E', 'F', 'G'], dtype=object)"
      ]
     },
     "execution_count": 6,
     "metadata": {},
     "output_type": "execute_result"
    }
   ],
   "source": [
    "df['livello'].unique()"
   ]
  },
  {
   "cell_type": "code",
   "execution_count": 7,
   "metadata": {},
   "outputs": [
    {
     "data": {
      "text/plain": [
       "array(['Elettrodomestici', 'Autovettura', 'Elettronica', 'Altro'],\n",
       "      dtype=object)"
      ]
     },
     "execution_count": 7,
     "metadata": {},
     "output_type": "execute_result"
    }
   ],
   "source": [
    "df['tipologia'].unique()"
   ]
  },
  {
   "cell_type": "code",
   "execution_count": 8,
   "metadata": {},
   "outputs": [
    {
     "data": {
      "text/html": [
       "<div>\n",
       "<style scoped>\n",
       "    .dataframe tbody tr th:only-of-type {\n",
       "        vertical-align: middle;\n",
       "    }\n",
       "\n",
       "    .dataframe tbody tr th {\n",
       "        vertical-align: top;\n",
       "    }\n",
       "\n",
       "    .dataframe thead th {\n",
       "        text-align: right;\n",
       "    }\n",
       "</style>\n",
       "<table border=\"1\" class=\"dataframe\">\n",
       "  <thead>\n",
       "    <tr style=\"text-align: right;\">\n",
       "      <th></th>\n",
       "      <th>importo</th>\n",
       "      <th>livello</th>\n",
       "      <th>durata</th>\n",
       "      <th>tipologia</th>\n",
       "      <th>saldo</th>\n",
       "      <th>eta</th>\n",
       "      <th>estinto</th>\n",
       "    </tr>\n",
       "  </thead>\n",
       "  <tbody>\n",
       "    <tr>\n",
       "      <th>0</th>\n",
       "      <td>1000</td>\n",
       "      <td>1</td>\n",
       "      <td>2.00</td>\n",
       "      <td>2</td>\n",
       "      <td>375.92</td>\n",
       "      <td>24</td>\n",
       "      <td>0</td>\n",
       "    </tr>\n",
       "    <tr>\n",
       "      <th>1</th>\n",
       "      <td>6500</td>\n",
       "      <td>0</td>\n",
       "      <td>2.00</td>\n",
       "      <td>1</td>\n",
       "      <td>1530.26</td>\n",
       "      <td>28</td>\n",
       "      <td>1</td>\n",
       "    </tr>\n",
       "    <tr>\n",
       "      <th>2</th>\n",
       "      <td>2400</td>\n",
       "      <td>0</td>\n",
       "      <td>2.00</td>\n",
       "      <td>2</td>\n",
       "      <td>1382.27</td>\n",
       "      <td>36</td>\n",
       "      <td>0</td>\n",
       "    </tr>\n",
       "    <tr>\n",
       "      <th>3</th>\n",
       "      <td>10000</td>\n",
       "      <td>2</td>\n",
       "      <td>3.00</td>\n",
       "      <td>2</td>\n",
       "      <td>1431.60</td>\n",
       "      <td>24</td>\n",
       "      <td>0</td>\n",
       "    </tr>\n",
       "    <tr>\n",
       "      <th>4</th>\n",
       "      <td>4000</td>\n",
       "      <td>2</td>\n",
       "      <td>2.00</td>\n",
       "      <td>2</td>\n",
       "      <td>395.65</td>\n",
       "      <td>28</td>\n",
       "      <td>1</td>\n",
       "    </tr>\n",
       "  </tbody>\n",
       "</table>\n",
       "</div>"
      ],
      "text/plain": [
       "   importo  livello  durata  tipologia   saldo  eta  estinto\n",
       "0     1000        1    2.00          2  375.92   24        0\n",
       "1     6500        0    2.00          1 1530.26   28        1\n",
       "2     2400        0    2.00          2 1382.27   36        0\n",
       "3    10000        2    3.00          2 1431.60   24        0\n",
       "4     4000        2    2.00          2  395.65   28        1"
      ]
     },
     "execution_count": 8,
     "metadata": {},
     "output_type": "execute_result"
    }
   ],
   "source": [
    "from sklearn.preprocessing import LabelEncoder\n",
    "\n",
    "df_encoded = df.copy()\n",
    "\n",
    "le_livello = LabelEncoder()\n",
    "le_livello = le_livello.fit(df[\"livello\"])\n",
    "df_encoded.livello = le_livello.transform(df.livello)\n",
    " \n",
    "le_tipologia = LabelEncoder()\n",
    "le_tipologia = le_tipologia.fit(df[\"tipologia\"])\n",
    "df_encoded.tipologia = le_tipologia.transform(df.tipologia)\n",
    " \n",
    "df_encoded.head()"
   ]
  },
  {
   "cell_type": "code",
   "execution_count": 9,
   "metadata": {},
   "outputs": [
    {
     "data": {
      "image/png": "[encoded data removed]",
      "text/plain": [
       "<Figure size 720x720 with 1 Axes>"
      ]
     },
     "metadata": {},
     "output_type": "display_data"
    }
   ],
   "source": [
    "import matplotlib.pyplot as plt\n",
    "%matplotlib inline\n",
    "plt.rcParams['figure.figsize'] = (10, 10)\n",
    "\n",
    "# seleziono uno stile più carino rispetto a quello classico\n",
    "plt.style.use('ggplot')\n",
    "\n",
    "plt.hist(df.estinto)\n",
    "plt.savefig(\"rf1.png\")"
   ]
  },
  {
   "cell_type": "code",
   "execution_count": 10,
   "metadata": {},
   "outputs": [
    {
     "data": {
      "image/png": "[encoded data removed]",
      "text/plain": [
       "<Figure size 432x288 with 1 Axes>"
      ]
     },
     "metadata": {
      "needs_background": "light"
     },
     "output_type": "display_data"
    }
   ],
   "source": [
    "conteggio = df.livello.value_counts()\n",
    "\n",
    "# piccola scorciatoia: uso Pandas per fare il grafico!!\n",
    "conteggio.plot.bar()\n",
    "plt.savefig(\"rf2.png\")"
   ]
  },
  {
   "cell_type": "code",
   "execution_count": 11,
   "metadata": {},
   "outputs": [
    {
     "data": {
      "image/png": "[encoded data removed]",
      "text/plain": [
       "<Figure size 432x288 with 1 Axes>"
      ]
     },
     "metadata": {
      "needs_background": "light"
     },
     "output_type": "display_data"
    }
   ],
   "source": [
    "conteggio = df.eta.value_counts()\n",
    "conteggio.plot.bar()\n",
    "plt.savefig(\"rf3.png\")"
   ]
  },
  {
   "cell_type": "code",
   "execution_count": 12,
   "metadata": {},
   "outputs": [
    {
     "data": {
      "image/png": "[encoded data removed]",
      "text/plain": [
       "<Figure size 432x288 with 1 Axes>"
      ]
     },
     "metadata": {
      "needs_background": "light"
     },
     "output_type": "display_data"
    }
   ],
   "source": [
    "plt.scatter(df.eta, df.saldo, alpha=0.4)\n",
    "plt.savefig(\"rf4.png\")"
   ]
  },
  {
   "cell_type": "code",
   "execution_count": 13,
   "metadata": {},
   "outputs": [
    {
     "data": {
      "image/png": "[encoded data removed]",
      "text/plain": [
       "<Figure size 432x288 with 2 Axes>"
      ]
     },
     "metadata": {
      "needs_background": "light"
     },
     "output_type": "display_data"
    }
   ],
   "source": [
    "df.plot.scatter(\n",
    "    x='eta', \n",
    "    y='saldo', \n",
    "    c='estinto', \n",
    "    logx=True, logy=True, \n",
    "    cmap='autumn'\n",
    ")\n",
    "plt.savefig(\"rf5.png\")"
   ]
  },
  {
   "cell_type": "code",
   "execution_count": 14,
   "metadata": {},
   "outputs": [],
   "source": [
    "from sklearn import tree\n",
    "X_2 = df_encoded.loc[:,('eta', 'saldo')]\n",
    "y = df_encoded.loc[:,'estinto']\n",
    "\n",
    "clf_dt = tree.DecisionTreeClassifier(max_depth=2)\n",
    "clf_dt = clf_dt.fit(X_2, y)"
   ]
  },
  {
   "cell_type": "code",
   "execution_count": 15,
   "metadata": {},
   "outputs": [
    {
     "name": "stdout",
     "output_type": "stream",
     "text": [
      "DecisionTreeClassifier(class_weight=None, criterion='gini', max_depth=2,\n",
      "                       max_features=None, max_leaf_nodes=None,\n",
      "                       min_impurity_decrease=0.0, min_impurity_split=None,\n",
      "                       min_samples_leaf=1, min_samples_split=2,\n",
      "                       min_weight_fraction_leaf=0.0, presort=False,\n",
      "                       random_state=None, splitter='best')\n"
     ]
    }
   ],
   "source": [
    "print(clf_dt)"
   ]
  },
  {
   "cell_type": "code",
   "execution_count": 16,
   "metadata": {},
   "outputs": [
    {
     "ename": "ModuleNotFoundError",
     "evalue": "No module named 'pydotplus'",
     "output_type": "error",
     "traceback": [
      "\u001b[1;31m---------------------------------------------------------------------------\u001b[0m",
      "\u001b[1;31mModuleNotFoundError\u001b[0m                       Traceback (most recent call last)",
      "\u001b[1;32m<ipython-input-16-5eb2168416b7>\u001b[0m in \u001b[0;36m<module>\u001b[1;34m\u001b[0m\n\u001b[1;32m----> 1\u001b[1;33m \u001b[1;32mimport\u001b[0m \u001b[0mpydotplus\u001b[0m\u001b[1;33m\u001b[0m\u001b[1;33m\u001b[0m\u001b[0m\n\u001b[0m\u001b[0;32m      2\u001b[0m dot_data = tree.export_graphviz(clf_dt, out_file='tree_3.dot', feature_names=X_2.columns,\n\u001b[0;32m      3\u001b[0m                                 \u001b[0mclass_names\u001b[0m\u001b[1;33m=\u001b[0m\u001b[1;33m[\u001b[0m\u001b[1;34m'no'\u001b[0m\u001b[1;33m,\u001b[0m \u001b[1;34m'yes'\u001b[0m\u001b[1;33m]\u001b[0m\u001b[1;33m,\u001b[0m \u001b[0mfilled\u001b[0m\u001b[1;33m=\u001b[0m\u001b[1;32mTrue\u001b[0m\u001b[1;33m,\u001b[0m\u001b[1;33m\u001b[0m\u001b[1;33m\u001b[0m\u001b[0m\n\u001b[0;32m      4\u001b[0m                                 rounded=True, special_characters=True)\n\u001b[0;32m      5\u001b[0m \u001b[0mgraph\u001b[0m \u001b[1;33m=\u001b[0m \u001b[0mpydotplus\u001b[0m\u001b[1;33m.\u001b[0m\u001b[0mgraph_from_dot_file\u001b[0m\u001b[1;33m(\u001b[0m\u001b[1;34m'tree_3.dot'\u001b[0m\u001b[1;33m)\u001b[0m\u001b[1;33m\u001b[0m\u001b[1;33m\u001b[0m\u001b[0m\n",
      "\u001b[1;31mModuleNotFoundError\u001b[0m: No module named 'pydotplus'"
     ]
    }
   ],
   "source": [
    "import pydotplus \n",
    "dot_data = tree.export_graphviz(clf_dt, out_file='tree_3.dot', feature_names=X_2.columns,\n",
    "                                class_names=['no', 'yes'], filled=True, \n",
    "                                rounded=True, special_characters=True)\n",
    "graph = pydotplus.graph_from_dot_file('tree_3.dot')"
   ]
  },
  {
   "cell_type": "code",
   "execution_count": null,
   "metadata": {},
   "outputs": [],
   "source": [
    "from IPython.display import Image\n",
    "Image(graph.create_png())"
   ]
  },
  {
   "cell_type": "code",
   "execution_count": null,
   "metadata": {},
   "outputs": [],
   "source": [
    "def plot_boundaries(X2, clf, filename):\n",
    "    x_min, x_max = X2.iloc[:, 0].min() - 1, X2.iloc[:, 0].max() + 1\n",
    "    y_min, y_max = X2.iloc[:, 1].min() - 1, X2.iloc[:, 1].max() + 1\n",
    "    xx, yy = np.meshgrid(np.arange(x_min, x_max, (x_max - x_min)/100), \n",
    "                         np.arange(y_min, y_max, (y_max - y_min)/100))\n",
    "    Z = clf.predict_proba(np.c_[xx.ravel(), yy.ravel()])[:,1]\n",
    "    Z = Z.reshape(xx.shape)\n",
    "    target = clf.predict(X2)\n",
    "    plt.scatter(\n",
    "        x = X2.iloc[:,0], \n",
    "        y = X2.iloc[:,1], \n",
    "        c = y, \n",
    "        s = 20,  \n",
    "        cmap=plt.cm.magma)\n",
    "    cs = plt.contourf(xx, yy, Z, cmap=plt.cm.viridis, alpha = 0.4)\n",
    "    plt.savefig(filename)\n",
    "\n",
    "plot_boundaries(X_2, clf_dt, \"rf6.png\")"
   ]
  },
  {
   "cell_type": "code",
   "execution_count": null,
   "metadata": {},
   "outputs": [],
   "source": [
    "clf_dt_5 = tree.DecisionTreeClassifier(max_depth=5).fit(X_2,y)\n",
    "plot_boundaries(X_2, clf_dt_5, \"rf7.png\")"
   ]
  },
  {
   "cell_type": "code",
   "execution_count": null,
   "metadata": {},
   "outputs": [],
   "source": [
    "esito_5_nodi = clf_dt_5.predict(X_2)\n",
    "plt.hist(esito_5_nodi)\n",
    "plt.savefig(\"rf8.png\")"
   ]
  },
  {
   "cell_type": "code",
   "execution_count": null,
   "metadata": {},
   "outputs": [],
   "source": [
    "from sklearn.metrics import roc_curve\n",
    "\n",
    "falsi_positivi, veri_positivi, _ = roc_curve(esito_5_nodi, df.estinto)\n",
    "plt.plot(falsi_positivi, veri_positivi)\n",
    "plt.savefig(\"rf9.png\")"
   ]
  },
  {
   "cell_type": "code",
   "execution_count": null,
   "metadata": {},
   "outputs": [],
   "source": [
    "from sklearn.metrics import roc_auc_score\n",
    "\n",
    "score = roc_auc_score(esito_5_nodi, df.estinto)\n",
    "print(score)"
   ]
  },
  {
   "cell_type": "code",
   "execution_count": null,
   "metadata": {},
   "outputs": [],
   "source": [
    "from sklearn.model_selection import StratifiedKFold\n",
    "\n",
    "def cross_validation(dataset, classificatore, k):\n",
    "    X = dataset.iloc[:,:-1]  # tutto tranne l'ultima colonna\n",
    "    y = dataset.iloc[:,-1]  # solo l'ultima colonna (\"estinto\")\n",
    "    \n",
    "    kf = StratifiedKFold(n_splits=k)\n",
    "    \n",
    "    valori_aree = []\n",
    "\n",
    "    for train_index, test_index in kf.split(X,y):\n",
    "        X_training = X.iloc[train_index]\n",
    "        y_training = y.iloc[train_index]\n",
    "        classificatore = classificatore.fit(X_training, y_training)\n",
    "        previsioni = classificatore.predict_proba(X.iloc[test_index])[:,1]\n",
    "        area = roc_auc_score(y.iloc[test_index],previsioni)\n",
    "        valori_aree.append(area)\n",
    "    \n",
    "    return np.mean(valori_aree)"
   ]
  },
  {
   "cell_type": "code",
   "execution_count": null,
   "metadata": {},
   "outputs": [],
   "source": [
    "dt = tree.DecisionTreeClassifier(max_depth=5)\n",
    "dataset = df_encoded[['eta', 'saldo', 'estinto']]\n",
    "\n",
    "print(cross_validation(dataset, dt, 5))"
   ]
  },
  {
   "cell_type": "code",
   "execution_count": null,
   "metadata": {},
   "outputs": [],
   "source": [
    "from sklearn.ensemble import RandomForestClassifier\n",
    "\n",
    "rfc = RandomForestClassifier(n_estimators=10)\n",
    "\n",
    "print(cross_validation(df_encoded, rfc, 5))"
   ]
  },
  {
   "cell_type": "code",
   "execution_count": null,
   "metadata": {},
   "outputs": [],
   "source": [
    "rfc = RandomForestClassifier(n_estimators=100)\n",
    "\n",
    "print(cross_validation(df_encoded, rfc, 5))"
   ]
  },
  {
   "cell_type": "code",
   "execution_count": null,
   "metadata": {},
   "outputs": [],
   "source": [
    "rfc = RandomForestClassifier(n_estimators=1000)\n",
    "\n",
    "print(cross_validation(df_encoded, rfc, 5))"
   ]
  },
  {
   "cell_type": "code",
   "execution_count": null,
   "metadata": {},
   "outputs": [],
   "source": []
  }
 ],
 "metadata": {
  "kernelspec": {
   "display_name": "Python 3",
   "language": "python",
   "name": "python3"
  },
  "language_info": {
   "codemirror_mode": {
    "name": "ipython",
    "version": 3
   },
   "file_extension": ".py",
   "mimetype": "text/x-python",
   "name": "python",
   "nbconvert_exporter": "python",
   "pygments_lexer": "ipython3",
   "version": "3.7.3"
  }
 },
 "nbformat": 4,
 "nbformat_minor": 2
}
