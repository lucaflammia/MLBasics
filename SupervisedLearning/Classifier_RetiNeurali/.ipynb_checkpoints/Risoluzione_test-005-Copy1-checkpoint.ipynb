{
 "cells": [
  {
   "cell_type": "code",
   "execution_count": 135,
   "metadata": {},
   "outputs": [],
   "source": [
    "import numpy as np\n",
    "import pandas as pd\n",
    "import matplotlib.pyplot as plt\n"
   ]
  },
  {
   "cell_type": "markdown",
   "metadata": {},
   "source": [
    "in un line di excel  trovi delle dichiarazioni e nell’altro trovi le righe delle dichiarazioni.\n",
    "In pratica si tratta di trovare quali dati possono non essere attendibili"
   ]
  },
  {
   "cell_type": "code",
   "execution_count": 136,
   "metadata": {},
   "outputs": [],
   "source": [
    "# IMPORT DEI FILES IN FORMATO CSV\n",
    "\n",
    "dichiarazioni = pd.read_csv('CSV/Ricevute_AEE.csv')\n",
    "righe = pd.read_csv('CSV/Righe_AEE.csv')\n",
    "\n",
    "\n",
    "# ID MANCANTE \n",
    "\n",
    "\n",
    "\n",
    "# print('Dimensione', ricevute.shape)\n",
    "# print('Numero di NaN per ogni colonna:\\n', ricevute.isnull().sum())\n",
    "# print('\\nControllo tipo dato \\n', ricevute.dtypes)\n",
    "\n",
    "# print('\\nRIGHE \\n')\n",
    "# print('Dimensione', righe.shape)\n",
    "# print('\\nNumero di NaN per ogni colonna: \\n', righe.isnull().sum())\n",
    "# print('\\nControllo tipo dato \\n', righe.dtypes)"
   ]
  },
  {
   "cell_type": "code",
   "execution_count": 137,
   "metadata": {},
   "outputs": [
    {
     "data": {
      "text/html": [
       "<div>\n",
       "<style scoped>\n",
       "    .dataframe tbody tr th:only-of-type {\n",
       "        vertical-align: middle;\n",
       "    }\n",
       "\n",
       "    .dataframe tbody tr th {\n",
       "        vertical-align: top;\n",
       "    }\n",
       "\n",
       "    .dataframe thead th {\n",
       "        text-align: right;\n",
       "    }\n",
       "</style>\n",
       "<table border=\"1\" class=\"dataframe\">\n",
       "  <thead>\n",
       "    <tr style=\"text-align: right;\">\n",
       "      <th></th>\n",
       "      <th>ID_DICHIARAZIONE</th>\n",
       "      <th>a_codice_ordine</th>\n",
       "      <th>a_cod_comparto</th>\n",
       "      <th>a_anno</th>\n",
       "      <th>a_mese</th>\n",
       "      <th>a_trimestre</th>\n",
       "      <th>a_peso_totale</th>\n",
       "      <th>a_imponibile</th>\n",
       "    </tr>\n",
       "  </thead>\n",
       "  <tbody>\n",
       "    <tr>\n",
       "      <th>0</th>\n",
       "      <td>20003</td>\n",
       "      <td>AEE00200032016D</td>\n",
       "      <td>D</td>\n",
       "      <td>2016</td>\n",
       "      <td>3</td>\n",
       "      <td>1</td>\n",
       "      <td>1806736,63</td>\n",
       "      <td>199083.02</td>\n",
       "    </tr>\n",
       "    <tr>\n",
       "      <th>1</th>\n",
       "      <td>20004</td>\n",
       "      <td>AEE00200042016P</td>\n",
       "      <td>P</td>\n",
       "      <td>2016</td>\n",
       "      <td>3</td>\n",
       "      <td>1</td>\n",
       "      <td>804</td>\n",
       "      <td>18.49</td>\n",
       "    </tr>\n",
       "    <tr>\n",
       "      <th>2</th>\n",
       "      <td>20039</td>\n",
       "      <td>AEE00200392016P</td>\n",
       "      <td>P</td>\n",
       "      <td>2016</td>\n",
       "      <td>3</td>\n",
       "      <td>1</td>\n",
       "      <td>482</td>\n",
       "      <td>11.09</td>\n",
       "    </tr>\n",
       "    <tr>\n",
       "      <th>3</th>\n",
       "      <td>20056</td>\n",
       "      <td>AEE00200562016D</td>\n",
       "      <td>D</td>\n",
       "      <td>2016</td>\n",
       "      <td>3</td>\n",
       "      <td>1</td>\n",
       "      <td>0</td>\n",
       "      <td>0.00</td>\n",
       "    </tr>\n",
       "    <tr>\n",
       "      <th>4</th>\n",
       "      <td>20064</td>\n",
       "      <td>AEE00200642016P</td>\n",
       "      <td>P</td>\n",
       "      <td>2016</td>\n",
       "      <td>3</td>\n",
       "      <td>1</td>\n",
       "      <td>0</td>\n",
       "      <td>0.00</td>\n",
       "    </tr>\n",
       "  </tbody>\n",
       "</table>\n",
       "</div>"
      ],
      "text/plain": [
       "   ID_DICHIARAZIONE  a_codice_ordine a_cod_comparto  a_anno  a_mese  \\\n",
       "0             20003  AEE00200032016D              D    2016       3   \n",
       "1             20004  AEE00200042016P              P    2016       3   \n",
       "2             20039  AEE00200392016P              P    2016       3   \n",
       "3             20056  AEE00200562016D              D    2016       3   \n",
       "4             20064  AEE00200642016P              P    2016       3   \n",
       "\n",
       "   a_trimestre a_peso_totale  a_imponibile  \n",
       "0            1    1806736,63     199083.02  \n",
       "1            1           804         18.49  \n",
       "2            1           482         11.09  \n",
       "3            1             0          0.00  \n",
       "4            1             0          0.00  "
      ]
     },
     "execution_count": 137,
     "metadata": {},
     "output_type": "execute_result"
    }
   ],
   "source": [
    "# INFO DICHIARAZIONI\n",
    "# print(dichiarazioni.info())\n",
    "dichiarazioni.head()\n",
    "# print('DICHIARAZIONI --> DIMENSIONI {} \\n'.format(dichiarazioni.shape))\n",
    "# print('dtypes\\n{} \\n'.format(dichiarazioni.dtypes))\n",
    "# print('Numero di records', dichiarazioni.count())\n",
    "# print('Numero di NaN per ogni colonna:\\n', dichiarazioni.isnull().sum())\n"
   ]
  },
  {
   "cell_type": "code",
   "execution_count": 138,
   "metadata": {},
   "outputs": [
    {
     "name": "stdout",
     "output_type": "stream",
     "text": [
      "Numero totale di ID_DICHIARAZIONE:  6273\n",
      "False\n"
     ]
    }
   ],
   "source": [
    "# Il numero dei ID_DICHIARAZIONE nel file delle dichiarazioni corrispondono al numero di records (6273) e non si ripetono\n",
    "print('Numero totale di ID_DICHIARAZIONE: ', dichiarazioni.ID_DICHIARAZIONE.count())\n",
    "print(any(dichiarazioni.ID_DICHIARAZIONE.value_counts()>1))"
   ]
  },
  {
   "cell_type": "code",
   "execution_count": 139,
   "metadata": {},
   "outputs": [
    {
     "name": "stdout",
     "output_type": "stream",
     "text": [
      "<class 'pandas.core.frame.DataFrame'>\n",
      "RangeIndex: 18115 entries, 0 to 18114\n",
      "Data columns (total 17 columns):\n",
      " #   Column                Non-Null Count  Dtype  \n",
      "---  ------                --------------  -----  \n",
      " 0   ID_DICHIARAZIONE      18115 non-null  int64  \n",
      " 1   a_anno                18115 non-null  int64  \n",
      " 2   a_mese                18115 non-null  int64  \n",
      " 3   a_trimestre           18115 non-null  int64  \n",
      " 4   a_imponibile          18115 non-null  object \n",
      " 5   a_peso                18115 non-null  object \n",
      " 6   a_quantita            18115 non-null  int64  \n",
      " 7   a_codice_listino      18115 non-null  object \n",
      " 8   a_raggruppamento      18115 non-null  object \n",
      " 9   a_um_codice           18115 non-null  object \n",
      " 10  a_descrizione         18114 non-null  object \n",
      " 11  a_cod_categoria       18115 non-null  int64  \n",
      " 12  a_cod_sottocategoria  18115 non-null  int64  \n",
      " 13  a_cod_tipologia       18113 non-null  float64\n",
      " 14  a_cod_sottotipologia  18115 non-null  int64  \n",
      " 15  a_cod_comparto        18115 non-null  object \n",
      " 16  ID_VOCE               18115 non-null  int64  \n",
      "dtypes: float64(1), int64(9), object(7)\n",
      "memory usage: 2.3+ MB\n",
      "None\n",
      "\n",
      "Numero di NaN per ogni colonna:\n",
      " ID_DICHIARAZIONE        0\n",
      "a_anno                  0\n",
      "a_mese                  0\n",
      "a_trimestre             0\n",
      "a_imponibile            0\n",
      "a_peso                  0\n",
      "a_quantita              0\n",
      "a_codice_listino        0\n",
      "a_raggruppamento        0\n",
      "a_um_codice             0\n",
      "a_descrizione           1\n",
      "a_cod_categoria         0\n",
      "a_cod_sottocategoria    0\n",
      "a_cod_tipologia         2\n",
      "a_cod_sottotipologia    0\n",
      "a_cod_comparto          0\n",
      "ID_VOCE                 0\n",
      "dtype: int64\n",
      "31116    170\n",
      "26567    110\n",
      "23629    104\n",
      "27970    104\n",
      "23547     97\n",
      "        ... \n",
      "30648      1\n",
      "22460      1\n",
      "34758      1\n",
      "30664      1\n",
      "34815      1\n",
      "Name: ID_DICHIARAZIONE, Length: 6272, dtype: int64\n",
      "['-0,01' '0' '0,01' ... '996,08' '997,34' '998,5']\n"
     ]
    }
   ],
   "source": [
    "# INFO RIGHE DICHIARAZIONI\n",
    "print(righe.info())\n",
    "# print('RIGHE DICHIARAZIONI --> DIMENSIONI {} \\n'.format(righe.shape))\n",
    "# print('dtypes\\n{} \\n'.format(righe.dtypes))\n",
    "# print('Numero di records\\n', righe.count())\n",
    "print('\\nNumero di NaN per ogni colonna:\\n', righe.isnull().sum())\n",
    "print(righe.ID_DICHIARAZIONE.value_counts())\n",
    "print(righe.a_imponibile.sort_values().unique())"
   ]
  },
  {
   "cell_type": "code",
   "execution_count": 140,
   "metadata": {},
   "outputs": [
    {
     "name": "stdout",
     "output_type": "stream",
     "text": [
      "Numero totale di ID_DICHIARAZIONE:  18115\n",
      "Numero ID_DICHIARAZIONE unici:  6272\n",
      "ID_DICHIARAZIONE si ripete ? --> True\n",
      "ID_DICHIARAZIONE si ripete con tutti ? --> False\n"
     ]
    }
   ],
   "source": [
    "# Il numero dei ID_DICHIARAZIONE nel file RIGHE NON corrisponde al numero di records (6273) e molti si ripetono ma non tutti\n",
    "print('Numero totale di ID_DICHIARAZIONE: ', righe.ID_DICHIARAZIONE.count())\n",
    "print('Numero ID_DICHIARAZIONE unici: ', righe.ID_DICHIARAZIONE.nunique())\n",
    "print('ID_DICHIARAZIONE si ripete ? -->', any(righe.ID_DICHIARAZIONE.value_counts()>1))\n",
    "print('ID_DICHIARAZIONE si ripete con tutti ? -->', all(righe.ID_DICHIARAZIONE.value_counts()>1))"
   ]
  },
  {
   "cell_type": "code",
   "execution_count": 141,
   "metadata": {},
   "outputs": [
    {
     "name": "stdout",
     "output_type": "stream",
     "text": [
      "<class 'pandas.core.frame.DataFrame'>\n",
      "Int64Index: 18116 entries, 0 to 18115\n",
      "Data columns (total 24 columns):\n",
      " #   Column                Non-Null Count  Dtype  \n",
      "---  ------                --------------  -----  \n",
      " 0   ID_DICHIARAZIONE      18116 non-null  int64  \n",
      " 1   a_codice_ordine       18116 non-null  object \n",
      " 2   a_cod_comparto_x      18116 non-null  object \n",
      " 3   a_anno_x              18116 non-null  int64  \n",
      " 4   a_mese_x              18116 non-null  int64  \n",
      " 5   a_trimestre_x         18116 non-null  int64  \n",
      " 6   a_peso_totale         18115 non-null  object \n",
      " 7   a_imponibile_x        18116 non-null  float64\n",
      " 8   a_anno_y              18115 non-null  float64\n",
      " 9   a_mese_y              18115 non-null  float64\n",
      " 10  a_trimestre_y         18115 non-null  float64\n",
      " 11  a_imponibile_y        18115 non-null  object \n",
      " 12  a_peso                18115 non-null  object \n",
      " 13  a_quantita            18115 non-null  float64\n",
      " 14  a_codice_listino      18115 non-null  object \n",
      " 15  a_raggruppamento      18115 non-null  object \n",
      " 16  a_um_codice           18115 non-null  object \n",
      " 17  a_descrizione         18114 non-null  object \n",
      " 18  a_cod_categoria       18115 non-null  float64\n",
      " 19  a_cod_sottocategoria  18115 non-null  float64\n",
      " 20  a_cod_tipologia       18113 non-null  float64\n",
      " 21  a_cod_sottotipologia  18115 non-null  float64\n",
      " 22  a_cod_comparto_y      18115 non-null  object \n",
      " 23  ID_VOCE               18115 non-null  float64\n",
      "dtypes: float64(10), int64(4), object(10)\n",
      "memory usage: 3.5+ MB\n"
     ]
    }
   ],
   "source": [
    "# ID NON CONSIDERATO --> ID = 30154 --> FAI LIST(SET(df.ID_DICHIARAZIONE) - SET(ldf.where(df.ID_DICHIARAZIONE.notna()))) \n",
    "# lst = list(df.a_descrizione.unique()) ESEMPIO\n",
    "ldf = pd.merge(dichiarazioni, righe, how='left', on='ID_DICHIARAZIONE')\n",
    "# ldf.where(df.ID_DICHIARAZIONE.notna())\n",
    "ldf.info()"
   ]
  },
  {
   "cell_type": "code",
   "execution_count": 142,
   "metadata": {},
   "outputs": [],
   "source": [
    "df = pd.merge(dichiarazioni, righe, on='ID_DICHIARAZIONE')"
   ]
  },
  {
   "cell_type": "code",
   "execution_count": 143,
   "metadata": {},
   "outputs": [
    {
     "name": "stdout",
     "output_type": "stream",
     "text": [
      "True\n",
      "True\n",
      "True\n",
      "True\n",
      "convert  a_anno  to string\n",
      "convert  a_mese  to string\n",
      "convert  a_trimestre  to string\n",
      "<class 'pandas.core.frame.DataFrame'>\n",
      "Int64Index: 18115 entries, 0 to 18114\n",
      "Data columns (total 20 columns):\n",
      " #   Column                Non-Null Count  Dtype  \n",
      "---  ------                --------------  -----  \n",
      " 0   ID_DICHIARAZIONE      18115 non-null  int64  \n",
      " 1   a_codice_ordine       18115 non-null  object \n",
      " 2   a_cod_comparto        18115 non-null  object \n",
      " 3   a_anno                18115 non-null  object \n",
      " 4   a_mese                18115 non-null  object \n",
      " 5   a_trimestre           18115 non-null  object \n",
      " 6   a_peso_totale         18115 non-null  object \n",
      " 7   a_imponibile_x        18115 non-null  float64\n",
      " 8   a_imponibile_y        18115 non-null  object \n",
      " 9   a_peso                18115 non-null  object \n",
      " 10  a_quantita            18115 non-null  int64  \n",
      " 11  a_codice_listino      18115 non-null  object \n",
      " 12  a_raggruppamento      18115 non-null  object \n",
      " 13  a_um_codice           18115 non-null  object \n",
      " 14  a_descrizione         18114 non-null  object \n",
      " 15  a_cod_categoria       18115 non-null  int64  \n",
      " 16  a_cod_sottocategoria  18115 non-null  int64  \n",
      " 17  a_cod_tipologia       18113 non-null  float64\n",
      " 18  a_cod_sottotipologia  18115 non-null  int64  \n",
      " 19  ID_VOCE               18115 non-null  int64  \n",
      "dtypes: float64(2), int64(6), object(12)\n",
      "memory usage: 2.9+ MB\n"
     ]
    }
   ],
   "source": [
    "# CONTROLLO RIDONDANZA COLONNE\n",
    "print(np.all(df.a_anno_x ==df.a_anno_y))\n",
    "print(np.all(df.a_mese_x ==df.a_mese_y))\n",
    "print(np.all(df.a_trimestre_x ==df.a_trimestre_y))\n",
    "print(np.all(df.a_cod_comparto_x ==df.a_cod_comparto_y))\n",
    "# ELIMINO COLONNE SUPERFLUE\n",
    "delete_col = ['a_anno_y', 'a_mese_y', 'a_trimestre_y', 'a_cod_comparto_y']\n",
    "rename_col = {'a_anno_x': 'a_anno', 'a_mese_x': 'a_mese', 'a_trimestre_x': 'a_trimestre', 'a_cod_comparto_x': 'a_cod_comparto'}\n",
    "df = df.drop(delete_col, axis=1)\n",
    "df = df.rename(columns=rename_col)\n",
    "for col in ['a_anno', 'a_mese', 'a_trimestre']:\n",
    "        print(\"convert \", df[col].name, \" to string\")\n",
    "        df[col] = df[col].astype(str)\n",
    "\n",
    "# df[['a_cod_categoria', 'a_descrizione']].head()\n",
    "df.info()"
   ]
  },
  {
   "cell_type": "code",
   "execution_count": 144,
   "metadata": {},
   "outputs": [
    {
     "data": {
      "image/png": "[encoded data removed]",
      "text/plain": [
       "<Figure size 720x432 with 1 Axes>"
      ]
     },
     "metadata": {
      "needs_background": "light"
     },
     "output_type": "display_data"
    }
   ],
   "source": [
    "# istogramma CODICI CON MAGGIOR NUMERO ORDINI\n",
    "plt.figure(figsize=(10, 6))\n",
    "\n",
    "# soglia minima vendite analizzate\n",
    "cutoff = 1e6\n",
    "mask = df['a_quantita'] > cutoff\n",
    "# stat = df[mask].groupby(['a_codice_ordine']).agg({'a_quantita': 'sum'})\n",
    "stat = df[mask].groupby(['a_codice_ordine'])['a_quantita'].sum()\n",
    "stat.plot.bar()\n",
    "plt.title('CODICI CON MAGGIOR NUMERO ORDINI')\n",
    "plt.xlabel('')\n",
    "plt.ylabel('QUANTITA ORDINI')\n",
    "plt.legend('')\n",
    "plt.show()"
   ]
  },
  {
   "cell_type": "code",
   "execution_count": 145,
   "metadata": {},
   "outputs": [
    {
     "data": {
      "image/png": "[encoded data removed]",
      "text/plain": [
       "<Figure size 720x360 with 2 Axes>"
      ]
     },
     "metadata": {
      "needs_background": "light"
     },
     "output_type": "display_data"
    }
   ],
   "source": [
    "explode = (0, 0, 0, 0.1, 0)\n",
    "stat = df.groupby(['a_anno'])['a_quantita'].sum()\n",
    "\n",
    "fig, ax = plt.subplots(ncols=2, figsize=(10,5))\n",
    "ax[0].plot(stat, marker='o')\n",
    "ax[0].set(xlabel='anno', ylabel='quantita ordini')\n",
    "\n",
    "ax[1] = plt.pie(stat, explode=explode, labels=stat.index, autopct='%1.1f%%', shadow=True, startangle=90)\n",
    "\n",
    "fig.subplots_adjust(left=.1, right=.9)\n",
    "\n",
    "plt.show()"
   ]
  },
  {
   "cell_type": "code",
   "execution_count": 146,
   "metadata": {},
   "outputs": [
    {
     "name": "stdout",
     "output_type": "stream",
     "text": [
      "a_cod_categoria\n",
      "1       1801403\n",
      "2       4844895\n",
      "3      22987828\n",
      "4      12431997\n",
      "5     106351555\n",
      "6       9057628\n",
      "7       2508734\n",
      "8       1429974\n",
      "9        817777\n",
      "10        10492\n",
      "Name: a_quantita, dtype: int64\n"
     ]
    },
    {
     "data": {
      "image/png": "[encoded data removed]",
      "text/plain": [
       "<Figure size 720x720 with 1 Axes>"
      ]
     },
     "metadata": {
      "needs_background": "light"
     },
     "output_type": "display_data"
    }
   ],
   "source": [
    "# NUMERO TOTALE ORDINI PER CATEGORIE \n",
    "stat = df.groupby(['a_cod_categoria'])['a_quantita'].sum()\n",
    "print(stat)\n",
    "plt.figure(figsize=(10, 10))\n",
    "plt.bar(stat.index, stat, width=0.8)\n",
    "# plt.xticks(np.arange(1,11), ('FORNI-\\nFRIGO', 'TV-\\nSCHERMI', 'PC-\\nTELEFONIA', \n",
    "#                            'INVERTER-\\nBATTERIE', 'LAMPADE', 'TORNIO-\\nFRESA',\n",
    "#                           'SPORT', 'LAB', 'TENNOSTATI', 'DISTRIB'))\n",
    "plt.xticks(np.arange(1,11), ('APP.\\nVENTIL e RISCALD', 'UTEN. CUCINA', 'PC', \n",
    "                           'ELETTRODOM.', 'ILLUM.\\nRILEV.', 'UTEN.\\nUFF.',\n",
    "                          'GIOCHI\\nSPORT', 'APP.\\nDIAGN.', 'STRUM.\\nMISUR.', 'DISTRIB.'))\n",
    "\n",
    "plt.title('NUMERO TOTALE ORDINI PER CATEGORIE ')\n",
    "plt.show()\n",
    "\n",
    "# FAI STACKED BAR mettendo le sottocategorie\n",
    "# CAMBIA TITOLO CATEGORIE? CERCA PAROLA PIù comune nelle descrizioni"
   ]
  },
  {
   "cell_type": "markdown",
   "metadata": {},
   "source": [
    "# ALGORITMO MACHINE LEARNING PER MODELLI PREDITTIVI"
   ]
  },
  {
   "cell_type": "markdown",
   "metadata": {},
   "source": [
    "## CLASSIFICAZIONE CATEGORIA OGGETTO A PARTIRE DALLA DESCRIZIONE PRODOTTO"
   ]
  },
  {
   "cell_type": "markdown",
   "metadata": {},
   "source": [
    "## Creazione del database"
   ]
  },
  {
   "cell_type": "code",
   "execution_count": 147,
   "metadata": {},
   "outputs": [],
   "source": [
    "from nltk.corpus import stopwords\n",
    "import re\n",
    "import string\n",
    "import sqlite3\n",
    "import json\n",
    "\n",
    "categorie = \"\"\"\n",
    "    CREATE TABLE if not exists categorie(id INTEGER PRIMARY KEY AUTOINCREMENT, categoria VARCHAR(50) NOT NULL);\n",
    "\"\"\"\n",
    "\n",
    "descrizioni = \"\"\"\n",
    "CREATE TABLE if not exists descrizioni(\n",
    "       id INTEGER PRIMARY KEY AUTOINCREMENT,\n",
    "       descrizione VARCHAR(255) NOT NULL,\n",
    "       id_categoria INTEGER NOT NULL,\n",
    "       \n",
    "       FOREIGN KEY (id_categoria) REFERENCES categorie (id)\n",
    "    );\n",
    "\"\"\"\n",
    "\n",
    "# creo il db e mi ci connetto\n",
    "database = \"test_MT.db\"\n",
    "conn = sqlite3.connect(database)\n",
    "cursor = conn.cursor()\n",
    "\n",
    "\n",
    "# creo le tabelle\n",
    "for tabella in (categorie, descrizioni):\n",
    "    cursor.execute(tabella)\n",
    "\n",
    "# scrivo i dati \n",
    "\n",
    "# categories = ['FORNI-FRIGO', 'TV-SCHERMI', 'PC-TELEFONIA','INVERTER-BATTERIE', 'LAMPADE', 'TORNIO-FRESA',\n",
    "#              'SPORT', 'LABORATORIO', 'TERMOSTATI', 'DISTRIB']\n",
    "\n",
    "categories = ['APP.VENTIL. RISCALD.', 'UTEN. CUCINA', 'PC','ELETTRODOM.', 'ILLUM. RILEV.', 'UTEN. UFF.',\n",
    "             'GIOCHI SPORT', 'APP. DIAGN.', 'STRUM. MISUR.', 'DISTRIB.']\n",
    "\n",
    "for el in categories:\n",
    "    # aggiungo la categoria se non esiste\n",
    "    q = \"INSERT INTO categorie (categoria) VALUES ('{}')\"\n",
    "    cursor.execute(q.format(el))\n",
    "    \n",
    "# aggiungo le descrizioni\n",
    "\n",
    "stopwords = set(stopwords.words('italian'))\n",
    "\n",
    "regex = re.compile('[%s]' % re.escape(string.punctuation))\n",
    "\n",
    "def bagOfWords(elem):\n",
    "    \"\"\"\n",
    "    Partiziona la stringa in un elenco di parole.\n",
    "    rimuove spazi, caratteri di punteggiatura,\n",
    "    stop words, parole specifiche e caratteri speciali.\n",
    "    Trasforma tutte le maiuscole in minuscole.\n",
    "    \"\"\"\n",
    "    stringa = str(elem)\n",
    "    words = stringa.lower().strip().split(' ')\n",
    "    for word in words:\n",
    "        word = word.rstrip().lstrip()\n",
    "        if not re.match(':\\/\\/.*[\\r\\n]*', word) \\\n",
    "        and not re.match('^÷*[kg]', word) \\\n",
    "        and not re.match(\"\\d\", word) \\\n",
    "        and not re.match('^@.*\"\"', word) \\\n",
    "        and re.match('^[a-z]', word) \\\n",
    "        and not re.match('\\s', word) \\\n",
    "        and word not in stopwords:\n",
    "            word = regex.sub(\"\", word)\n",
    "            if word:\n",
    "                word.replace('\"', '')\n",
    "                yield word\n",
    "\n",
    "\n",
    "# lista array (descrizione, categoria)\n",
    "v_list = list(df[['a_descrizione', 'a_cod_categoria']].values)\n",
    "\n",
    "desc = [(list(bagOfWords(desc)), cat) for desc, cat in v_list]\n",
    "\n",
    "for descrizione, categoria in desc:\n",
    "    q = \"\"\"\n",
    "        INSERT INTO descrizioni (descrizione, id_categoria)\n",
    "        VALUES\n",
    "            (\"{0}\", \"{1}\")\n",
    "    \"\"\".format(descrizione, categoria)\n",
    "    cursor.execute(q)\n",
    "\n"
   ]
  },
  {
   "cell_type": "markdown",
   "metadata": {},
   "source": [
    "# Ricavare le parole significative nelle descrizioni (temi)"
   ]
  },
  {
   "cell_type": "markdown",
   "metadata": {},
   "source": [
    "### Uso modulo word_tokenize della libreria nltk per estrarre singole parole (token)"
   ]
  },
  {
   "cell_type": "code",
   "execution_count": 148,
   "metadata": {},
   "outputs": [],
   "source": [
    "from nltk import word_tokenize\n",
    "\n",
    "def elabora_corpus(corpus):\n",
    "    \"\"\"\n",
    "    corpus sarà una lista di tuple, formata da:\n",
    "    [\n",
    "        (\"una descrizione\", \"categoria1\"),\n",
    "        (\"un'altra descrizione\", \"categoria2\")\n",
    "    ]\n",
    "    \"\"\"\n",
    "    temi = set()\n",
    "    categorie = set()\n",
    "    documenti = []\n",
    "    boo = []\n",
    "    \n",
    "    for descrizione, categoria in corpus:\n",
    "        parole = [\n",
    "            p.replace(\"'\", '') for p in word_tokenize(descrizione)\n",
    "            if p not in stopwords\n",
    "            and p not in string.punctuation\n",
    "        ]\n",
    "        temi.update(parole)\n",
    "        documenti.append((parole, categoria))\n",
    "        categorie.add(categoria)\n",
    "    \n",
    "    temi = list(set(parola for parola in temi))\n",
    "    categorie = list(categorie)\n",
    "\n",
    "    return temi, categorie, documenti"
   ]
  },
  {
   "cell_type": "code",
   "execution_count": 149,
   "metadata": {},
   "outputs": [],
   "source": [
    "# q = \"\"\"\n",
    "#     SELECT  descrizione, categoria\n",
    "#     FROM descrizioni\n",
    "#     INNER JOIN categorie ON (id_categoria = categorie.id)\n",
    "# \"\"\"\n",
    "\n",
    "# documenti = cursor.execute(q).fetchall()\n",
    "# print(documenti[3:5])\n",
    "# boo = []\n",
    "\n",
    "# for descrizione, categoria in documenti[3:5]:\n",
    "\n",
    "#     parole = [\n",
    "#         p.replace(\"'\", '') for p in word_tokenize(descrizione)\n",
    "#         if p not in stopwords\n",
    "#         and p not in string.punctuation\n",
    "#     ]\n",
    "#     boo.append(all(descrizione)==all(parole))\n",
    "#     print('D', descrizione)\n",
    "#     print('P', parole)\n",
    "        \n",
    "# print(all(boo))"
   ]
  },
  {
   "cell_type": "code",
   "execution_count": 150,
   "metadata": {},
   "outputs": [
    {
     "name": "stdout",
     "output_type": "stream",
     "text": [
      "[(\"['asciugatrici']\", 'APP.VENTIL. RISCALD.'), (\"['forni', 'microonde']\", 'APP.VENTIL. RISCALD.')]\n",
      "Numero categorie = 10\n",
      "Numero documenti = 18115\n",
      "Numero temi = 402\n",
      "Primi cinque temi = ['caffã¨', 'fluidi', 'densitã\\\\xa0', 'ferri', 'densità', 'informatiche', 'tubi', 'individuale', 'densit\\\\x88', 'elettrodomestici', 'pc', 'dell8', 'caff√®', 'schermo', 'calcolatrici']\n"
     ]
    }
   ],
   "source": [
    "q = \"\"\"\n",
    "    SELECT  descrizione, categoria\n",
    "    FROM descrizioni\n",
    "    INNER JOIN categorie ON (id_categoria = categorie.id)\n",
    "\"\"\"\n",
    "\n",
    "documenti = cursor.execute(q).fetchall()\n",
    "print(documenti[3:5])\n",
    "\n",
    "# elabora_corpus(<[(descrizione, categoria)]>)\n",
    "temi, categorie, documenti = elabora_corpus(documenti)\n",
    "print(\"Numero categorie = {}\".format(len(categorie)))\n",
    "print(\"Numero documenti = {}\".format(len(documenti)))\n",
    "print('Numero temi = {}'.format(len(temi)))\n",
    "print(\"Primi cinque temi = {}\".format(temi[:15]))\n"
   ]
  },
  {
   "cell_type": "markdown",
   "metadata": {},
   "source": [
    "# Da un testo al numero"
   ]
  },
  {
   "cell_type": "code",
   "execution_count": 151,
   "metadata": {},
   "outputs": [],
   "source": [
    "import random\n",
    "\n",
    "def crea_training_set(documenti, categorie):\n",
    "    \"\"\"\n",
    "    Metodo che ritorna una tupla di due valori:\n",
    "        - l'array degli input (train_x)\n",
    "        - l'array degli output (train_y)\n",
    "        \n",
    "    I due array hanno lungezza fissa:\n",
    "     - len(train_x) == len(temi)\n",
    "     - len(train_y) == len(categorie) \n",
    "    \"\"\"\n",
    "    training = []\n",
    "    output_vuota = [0] * len(categorie)\n",
    "    categorie = list(categorie)\n",
    "\n",
    "    for parole, categoria in documenti:\n",
    "        \n",
    "        temi_descrizione = [parola for parola in parole]\n",
    "        \n",
    "        # riempio la lista di input\n",
    "        riga_input = [1 if t in temi_descrizione else 0 for t in temi]\n",
    "\n",
    "        # riempio la lista di output\n",
    "        riga_output = output_vuota[:]\n",
    "        riga_output[categorie.index(categoria)] = 1\n",
    "\n",
    "        training.append([riga_input, riga_output])\n",
    "\n",
    "    # mischio il mazzo\n",
    "    random.shuffle(training)\n",
    "    # trasformo in un array\n",
    "    training = np.array(training)\n",
    "\n",
    "    # e creo il training set\n",
    "    train_x = list(training[:, 0])\n",
    "    train_y = list(training[:, 1])\n",
    "    return train_x, train_y"
   ]
  },
  {
   "cell_type": "code",
   "execution_count": 152,
   "metadata": {},
   "outputs": [
    {
     "name": "stderr",
     "output_type": "stream",
     "text": [
      "C:\\Users\\Utente\\Anaconda3\\lib\\site-packages\\ipykernel_launcher.py:33: VisibleDeprecationWarning: Creating an ndarray from ragged nested sequences (which is a list-or-tuple of lists-or-tuples-or ndarrays with different lengths or shapes) is deprecated. If you meant to do this, you must specify 'dtype=object' when creating the ndarray\n"
     ]
    }
   ],
   "source": [
    "# TRAINING CON 12681 delle 18115 descrizioni (70%) a disposizione\n",
    "X, y = crea_training_set(documenti[:12681], categorie)"
   ]
  },
  {
   "cell_type": "code",
   "execution_count": 153,
   "metadata": {},
   "outputs": [
    {
     "name": "stdout",
     "output_type": "stream",
     "text": [
      "Categorie = ['UTEN. UFF.', 'APP.VENTIL. RISCALD.', 'UTEN. CUCINA', 'ELETTRODOM.', 'PC', 'DISTRIB.', 'GIOCHI SPORT', 'STRUM. MISUR.', 'ILLUM. RILEV.', 'APP. DIAGN.']\n",
      "[('APP.VENTIL. RISCALD.',), ('UTEN. CUCINA',)]\n",
      "[[0, 0, 1, 0, 0, 0, 0, 0, 0, 0], [0, 1, 0, 0, 0, 0, 0, 0, 0, 0]]\n"
     ]
    },
    {
     "name": "stderr",
     "output_type": "stream",
     "text": [
      "C:\\Users\\Utente\\Anaconda3\\lib\\site-packages\\ipykernel_launcher.py:33: VisibleDeprecationWarning: Creating an ndarray from ragged nested sequences (which is a list-or-tuple of lists-or-tuples-or ndarrays with different lengths or shapes) is deprecated. If you meant to do this, you must specify 'dtype=object' when creating the ndarray\n"
     ]
    }
   ],
   "source": [
    "q = \"\"\"\n",
    "    SELECT  categoria\n",
    "    FROM descrizioni\n",
    "    INNER JOIN categorie ON (id_categoria = categorie.id)\n",
    "\"\"\"\n",
    "doc_test = cursor.execute(q).fetchall()\n",
    "\n",
    "Xtest, ytest = crea_training_set(documenti[6:8], categorie)\n",
    "print(\"Categorie = {}\".format(categorie))\n",
    "print(doc_test[6:8])\n",
    "print(ytest)"
   ]
  },
  {
   "cell_type": "markdown",
   "metadata": {},
   "source": [
    "# Il cervello del BOT\n",
    "\n",
    "#### Rete neurale con 1 livello di input, 2 livelli nascosti, 1 livello di output "
   ]
  },
  {
   "cell_type": "code",
   "execution_count": 154,
   "metadata": {
    "scrolled": true
   },
   "outputs": [],
   "source": [
    "import tensorflow as tf\n",
    "from tflearn import input_data, fully_connected, regression, DNN\n",
    "\n",
    "def ClassificatoreANN(X, y):\n",
    "    \"\"\"\n",
    "    Questo metodo definisce e istruisce una \n",
    "    ANN (Artificial Neural Network), di tipo\n",
    "    DNN (Deep Neural Network) composta da:\n",
    "        - un livello di input, \n",
    "        - due hidden layer,\n",
    "        - uno di output.\n",
    "    Utilizza softmax come funzione di attivazione.\n",
    "    \n",
    "    I parametri sono:\n",
    "       - X: array bidimensionale con i dati di input\n",
    "       - y: array bidimensionale con i dati di output\n",
    "       \n",
    "    Una volta definita la struttura della rete neurale,\n",
    "    ne viene fatto il training, e il modello viene\n",
    "    salvato in un file, chiamato \"rete.tflearn\".\n",
    "    \"\"\"\n",
    "    # resetto i dati del grafo\n",
    "    tf.compat.v1.reset_default_graph()\n",
    "    \n",
    "    # Definire la Rete Neurale\n",
    "    rete = input_data(shape=[None, len(X[0])])\n",
    "    rete = fully_connected(rete, 128)\n",
    "    rete = fully_connected(rete, 128)\n",
    "    rete = fully_connected(rete, len(y[0]), activation='softmax')\n",
    "    rete = regression(rete)\n",
    "    \n",
    "    # Faccio il training\n",
    "    model = DNN(rete, tensorboard_dir='logs')\n",
    "#     model.fit(X, y, n_epoch=100, batch_size=8, show_metric=True)\n",
    "    return model"
   ]
  },
  {
   "cell_type": "code",
   "execution_count": 155,
   "metadata": {},
   "outputs": [
    {
     "name": "stdout",
     "output_type": "stream",
     "text": [
      "INFO:tensorflow:Restoring parameters from C:\\Users\\Utente\\Documents\\Attività_progetti\\Projects\\Multitraccia\\rete_70perc_ep100_hid_128\n"
     ]
    }
   ],
   "source": [
    "modello = ClassificatoreANN(X, y) \n",
    "modello.load(\"./rete_70perc_ep100_hid_128\")"
   ]
  },
  {
   "cell_type": "code",
   "execution_count": 156,
   "metadata": {},
   "outputs": [],
   "source": [
    "# SALVA PESO DEI NEURONI IN FILE DI TESTO\n",
    "# modello.save('rete_70perc_ep100_hid_128')"
   ]
  },
  {
   "cell_type": "code",
   "execution_count": 157,
   "metadata": {},
   "outputs": [],
   "source": [
    "# DA LISTA DI PAROLE a LISTA DI 0 e 1\n",
    "def genera_input(lista_temi):\n",
    "    \"\"\"\n",
    "    Conversione da lista di temi\n",
    "    a lista di cifre costituita da 0 (no match) e 1 (match)\n",
    "    \"\"\"\n",
    "    lista_input = [0]*len(temi) \n",
    "    for tema in lista_temi:\n",
    "        for i, t in enumerate(temi):\n",
    "            if t == tema: \n",
    "                lista_input[i] = 1\n",
    "    return(np.array(lista_input))"
   ]
  },
  {
   "cell_type": "code",
   "execution_count": 158,
   "metadata": {},
   "outputs": [],
   "source": [
    "SOGLIA_ERRORE = 0.25\n",
    "\n",
    "def classifica(modello, array):\n",
    "    # genera le probabilità \n",
    "    prob = modello.predict([array])[0]  # lista delle probabilità associate ad ognuna delle 10 categorie\n",
    "    # filtro quelle che superano la soglia\n",
    "    prob_d = {v: prob[i]  for i, v in enumerate(categorie)}\n",
    "    # print per test pochi dati\n",
    "    if len(array) < 10:\n",
    "        print('mappa categoria - probabilita:\\n{}'.format(prob_d))\n",
    "    risultati = [\n",
    "        [i,p] for i,p in enumerate(prob) \n",
    "        if p > SOGLIA_ERRORE\n",
    "    ]\n",
    "    # ordino per le categorie più probabili in ordine decrescente\n",
    "    risultati.sort(key=lambda x: x[1], reverse=True)\n",
    "    lista_categorie = []\n",
    "    for r in risultati:\n",
    "        lista_categorie.append((list(categorie)[r[0]], r[1]))\n",
    "    return lista_categorie"
   ]
  },
  {
   "cell_type": "code",
   "execution_count": 159,
   "metadata": {},
   "outputs": [],
   "source": [
    "def trova_categorie(modello, temi_descrizione):\n",
    "#     print('\\nTEMI DESCRIZIONE IN INGRESSO {}\\n'.format(temi_descrizione))\n",
    "    X = genera_input(temi_descrizione)\n",
    "    # genero la classifica delle categorie predette (almeno con 25%)\n",
    "    # inserendo i temi di input nel modello di rete neurale  \n",
    "    categorie_predette = classifica(modello, X)\n",
    "    \n",
    "    if categorie_predette:\n",
    "        # SELEZIONO CATEGORIE CON PROBABILITA' >= SOGLIA_ERRORE = 25%\n",
    "        return categorie_predette"
   ]
  },
  {
   "cell_type": "code",
   "execution_count": 160,
   "metadata": {},
   "outputs": [
    {
     "name": "stdout",
     "output_type": "stream",
     "text": [
      "\n",
      "Le principali categorie (>=25%) predette sono : [('UTEN. CUCINA', 0.6871826)]\n"
     ]
    }
   ],
   "source": [
    "from nltk.corpus import stopwords\n",
    "# trova_categoria(<modello>, <str>)\n",
    "categorie_predette = trova_categorie(modello, ['lampadari', 'televisori'])\n",
    "print('\\nLe principali categorie (>=25%) predette sono : {}'.format(categorie_predette))"
   ]
  },
  {
   "cell_type": "markdown",
   "metadata": {},
   "source": [
    "# TEST FUNZIONAMENTO"
   ]
  },
  {
   "cell_type": "markdown",
   "metadata": {},
   "source": [
    "### CLASSIFICAZIONE REALE descrizioni nelle categorie da righe 12681 a 18115"
   ]
  },
  {
   "cell_type": "code",
   "execution_count": 161,
   "metadata": {},
   "outputs": [],
   "source": [
    "# CODICE DA SCRIVERE"
   ]
  },
  {
   "cell_type": "markdown",
   "metadata": {},
   "source": [
    "# RISULTATO MODELLO"
   ]
  },
  {
   "cell_type": "code",
   "execution_count": 162,
   "metadata": {},
   "outputs": [],
   "source": [
    "cat_list = ['APP.VENTIL. RISCALD.', 'UTEN. CUCINA', 'PC','ELETTRODOM.', 'ILLUM. RILEV.', 'UTEN. UFF.',\n",
    "           'GIOCHI SPORT', 'APP. DIAGN.', 'STRUM. MISUR.', 'DISTRIB.']"
   ]
  },
  {
   "cell_type": "code",
   "execution_count": 163,
   "metadata": {},
   "outputs": [],
   "source": [
    "def estrai_temi(doc_in):\n",
    "    \"\"\"\n",
    "    Estraggo i temi a partire\n",
    "    dal documento in ingresso\n",
    "    costituito dalla lista di tuple\n",
    "    (descrizione, categoria)\n",
    "    \"\"\"\n",
    "    temi_in = set()\n",
    "    for descrizione in doc_in:\n",
    "        temi_in.update([descrizione])\n",
    "\n",
    "    temi_test = list(temi_in)\n",
    "    \n",
    "    return temi_test"
   ]
  },
  {
   "cell_type": "markdown",
   "metadata": {},
   "source": [
    "## ESEMPIO PROVA (set 3 dati)"
   ]
  },
  {
   "cell_type": "code",
   "execution_count": 164,
   "metadata": {},
   "outputs": [
    {
     "name": "stdout",
     "output_type": "stream",
     "text": [
      "\n",
      "TEST no. 1\n",
      "\n",
      "categoria osservata: ILLUM. RILEV.\n",
      "\n",
      "Le principali categorie (>=25%) predette sono 2 [(cat, prob)] --> [('ILLUM. RILEV.', 0.6585747), ('ELETTRODOM.', 0.3381131)]\n",
      "\n",
      "<-------------------------------->\n",
      "\n",
      "TEST no. 2\n",
      "\n",
      "categoria osservata: ILLUM. RILEV.\n",
      "\n",
      "Le principali categorie (>=25%) predette sono 1 [(cat, prob)] --> [('ILLUM. RILEV.', 1.0)]\n",
      "\n",
      "<-------------------------------->\n",
      "\n",
      "TEST no. 3\n",
      "\n",
      "categoria osservata: ILLUM. RILEV.\n",
      "\n",
      "Le principali categorie (>=25%) predette sono 1 [(cat, prob)] --> [('ILLUM. RILEV.', 1.0)]\n",
      "\n",
      "<-------------------------------->\n",
      "\n",
      "Comparazione per le 3 categorie osservate vs predette [ True  True  True]\n"
     ]
    }
   ],
   "source": [
    "# Prova esempio di 3 dati all'interno intervallo righe tra 12681 e 18115 (test set)\n",
    "\n",
    "cat_oss = []\n",
    "cat_pred = []\n",
    "\n",
    "for i, (desc_in, categoria_in) in enumerate(documenti[12697:12700]):\n",
    "    print('\\nTEST no. {}'.format(i+1))\n",
    "    temi_test = estrai_temi(desc_in)\n",
    "    print('\\ncategoria osservata: {}'.format(categoria_in))\n",
    "    cat_oss.append(categoria_in)\n",
    "    c_pred = trova_categorie(modello, temi_test)\n",
    "    cat_pred.append(c_pred[0][0])\n",
    "    print('\\nLe principali categorie (>=25%) predette sono {} [(cat, prob)] --> {}'\n",
    "          .format(len(c_pred), [(c_pred[i][0], c_pred[i][1]) for i in range(len(c_pred))]))\n",
    "    print('\\n<-------------------------------->')\n",
    "    \n",
    "# comparazione categoria osservata e categoria predetta con maggiore probabilità\n",
    "cat_oss = np.array(cat_oss)\n",
    "cat_pred = np.array(cat_pred)\n",
    "print('\\nComparazione per le {} categorie osservate vs predette {}'.format(len(cat_oss), cat_oss==cat_pred))"
   ]
  },
  {
   "cell_type": "code",
   "execution_count": 191,
   "metadata": {},
   "outputs": [
    {
     "data": {
      "text/plain": [
       "True     4825\n",
       "False     609\n",
       "Name: Equality, dtype: int64"
      ]
     },
     "execution_count": 191,
     "metadata": {},
     "output_type": "execute_result"
    }
   ],
   "source": [
    "# Test completo per i dati all'interno intervallo righe tra 12681 e 18115 (test set ovvero 30% set totale)\n",
    "\n",
    "cat_oss = []\n",
    "cat_pred = []\n",
    "\n",
    "for i, (desc_in, categoria_in) in enumerate(documenti[12681:]):\n",
    "    temi_test = estrai_temi(desc_in)\n",
    "    cat_oss.append(categoria_in)\n",
    "    c_pred = trova_categorie(modello, temi_test)\n",
    "    cat_pred.append(c_pred[0][0])\n",
    "    \n",
    "# comparazione categoria osservata e categoria predetta con maggiore probabilità\n",
    "cat_oss = np.array(cat_oss)\n",
    "cat_pred = np.array(cat_pred)\n",
    "\n",
    "data = {\n",
    "    'Cat. Osservata': cat_oss,\n",
    "    'Cat. Predetta': cat_pred\n",
    "}\n",
    "\n",
    "df_stat = pd.DataFrame(data, columns=data.keys())\n",
    "df_stat['Equality'] = cat_oss == cat_pred\n",
    "\n",
    "# df_stat = df_stat.agg('Equality': )\n",
    "df_stat['Equality'].value_counts()\n"
   ]
  },
  {
   "cell_type": "markdown",
   "metadata": {},
   "source": [
    "### INSERIMENTO CATEGORIA SU SET 1000 DESCRIZIONI "
   ]
  },
  {
   "cell_type": "code",
   "execution_count": null,
   "metadata": {},
   "outputs": [],
   "source": []
  },
  {
   "cell_type": "code",
   "execution_count": null,
   "metadata": {},
   "outputs": [],
   "source": []
  },
  {
   "cell_type": "code",
   "execution_count": null,
   "metadata": {},
   "outputs": [],
   "source": [
    "# CLASSIFICAZIONE ORIGINALE\n",
    "cursor.execute('SELECT id_categoria, count(id_categoria) FROM (select * from descrizioni limit 1000) group by id_categoria ')\n",
    "rows = cursor.fetchall()\n",
    "print('\\n', len(rows), rows)"
   ]
  }
 ],
 "metadata": {
  "kernelspec": {
   "display_name": "Python 3",
   "language": "python",
   "name": "python3"
  },
  "language_info": {
   "codemirror_mode": {
    "name": "ipython",
    "version": 3
   },
   "file_extension": ".py",
   "mimetype": "text/x-python",
   "name": "python",
   "nbconvert_exporter": "python",
   "pygments_lexer": "ipython3",
   "version": "3.7.3"
  }
 },
 "nbformat": 4,
 "nbformat_minor": 2
}
