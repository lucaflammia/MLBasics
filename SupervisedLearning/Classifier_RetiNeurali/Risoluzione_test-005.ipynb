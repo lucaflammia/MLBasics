{
 "cells": [
  {
   "cell_type": "code",
   "execution_count": 1,
   "metadata": {},
   "outputs": [],
   "source": [
    "import numpy as np\n",
    "import pandas as pd\n",
    "import matplotlib.pyplot as plt\n"
   ]
  },
  {
   "cell_type": "markdown",
   "metadata": {},
   "source": [
    "in un line di excel  trovi delle dichiarazioni e nell’altro trovi le righe delle dichiarazioni.\n",
    "In pratica si tratta di trovare quali dati possono non essere attendibili"
   ]
  },
  {
   "cell_type": "code",
   "execution_count": 2,
   "metadata": {},
   "outputs": [],
   "source": [
    "# IMPORT DEI FILES IN FORMATO CSV\n",
    "\n",
    "dichiarazioni = pd.read_csv('CSV/Ricevute_AEE.csv')\n",
    "righe = pd.read_csv('CSV/Righe_AEE.csv')\n",
    "\n",
    "\n",
    "# ID MANCANTE \n",
    "\n",
    "\n",
    "\n",
    "# print('Dimensione', ricevute.shape)\n",
    "# print('Numero di NaN per ogni colonna:\\n', ricevute.isnull().sum())\n",
    "# print('\\nControllo tipo dato \\n', ricevute.dtypes)\n",
    "\n",
    "# print('\\nRIGHE \\n')\n",
    "# print('Dimensione', righe.shape)\n",
    "# print('\\nNumero di NaN per ogni colonna: \\n', righe.isnull().sum())\n",
    "# print('\\nControllo tipo dato \\n', righe.dtypes)"
   ]
  },
  {
   "cell_type": "code",
   "execution_count": 3,
   "metadata": {},
   "outputs": [
    {
     "data": {
      "text/plain": [
       "(6273, 8)"
      ]
     },
     "execution_count": 3,
     "metadata": {},
     "output_type": "execute_result"
    }
   ],
   "source": [
    "# INFO DICHIARAZIONI\n",
    "# print(dichiarazioni.info())\n",
    "dichiarazioni.shape\n",
    "# print('DICHIARAZIONI --> DIMENSIONI {} \\n'.format(dichiarazioni.shape))\n",
    "# print('dtypes\\n{} \\n'.format(dichiarazioni.dtypes))\n",
    "# print('Numero di records', dichiarazioni.count())\n",
    "# print('Numero di NaN per ogni colonna:\\n', dichiarazioni.isnull().sum())\n"
   ]
  },
  {
   "cell_type": "code",
   "execution_count": 4,
   "metadata": {},
   "outputs": [
    {
     "name": "stdout",
     "output_type": "stream",
     "text": [
      "Numero totale di ID_DICHIARAZIONE:  6273\n",
      "False\n"
     ]
    }
   ],
   "source": [
    "# Il numero dei ID_DICHIARAZIONE nel file delle dichiarazioni corrispondono al numero di records (6273) e non si ripetono\n",
    "print('Numero totale di ID_DICHIARAZIONE: ', dichiarazioni.ID_DICHIARAZIONE.count())\n",
    "print(any(dichiarazioni.ID_DICHIARAZIONE.value_counts()>1))"
   ]
  },
  {
   "cell_type": "code",
   "execution_count": 5,
   "metadata": {},
   "outputs": [
    {
     "name": "stdout",
     "output_type": "stream",
     "text": [
      "<class 'pandas.core.frame.DataFrame'>\n",
      "RangeIndex: 18115 entries, 0 to 18114\n",
      "Data columns (total 17 columns):\n",
      " #   Column                Non-Null Count  Dtype  \n",
      "---  ------                --------------  -----  \n",
      " 0   ID_DICHIARAZIONE      18115 non-null  int64  \n",
      " 1   a_anno                18115 non-null  int64  \n",
      " 2   a_mese                18115 non-null  int64  \n",
      " 3   a_trimestre           18115 non-null  int64  \n",
      " 4   a_imponibile          18115 non-null  object \n",
      " 5   a_peso                18115 non-null  object \n",
      " 6   a_quantita            18115 non-null  int64  \n",
      " 7   a_codice_listino      18115 non-null  object \n",
      " 8   a_raggruppamento      18115 non-null  object \n",
      " 9   a_um_codice           18115 non-null  object \n",
      " 10  a_descrizione         18114 non-null  object \n",
      " 11  a_cod_categoria       18115 non-null  int64  \n",
      " 12  a_cod_sottocategoria  18115 non-null  int64  \n",
      " 13  a_cod_tipologia       18113 non-null  float64\n",
      " 14  a_cod_sottotipologia  18115 non-null  int64  \n",
      " 15  a_cod_comparto        18115 non-null  object \n",
      " 16  ID_VOCE               18115 non-null  int64  \n",
      "dtypes: float64(1), int64(9), object(7)\n",
      "memory usage: 2.3+ MB\n",
      "None\n",
      "\n",
      "Numero di NaN per ogni colonna:\n",
      " ID_DICHIARAZIONE        0\n",
      "a_anno                  0\n",
      "a_mese                  0\n",
      "a_trimestre             0\n",
      "a_imponibile            0\n",
      "a_peso                  0\n",
      "a_quantita              0\n",
      "a_codice_listino        0\n",
      "a_raggruppamento        0\n",
      "a_um_codice             0\n",
      "a_descrizione           1\n",
      "a_cod_categoria         0\n",
      "a_cod_sottocategoria    0\n",
      "a_cod_tipologia         2\n",
      "a_cod_sottotipologia    0\n",
      "a_cod_comparto          0\n",
      "ID_VOCE                 0\n",
      "dtype: int64\n"
     ]
    }
   ],
   "source": [
    "# INFO RIGHE DICHIARAZIONI\n",
    "print(righe.info())\n",
    "# print('RIGHE DICHIARAZIONI --> DIMENSIONI {} \\n'.format(righe.shape))\n",
    "# print('dtypes\\n{} \\n'.format(righe.dtypes))\n",
    "# print('Numero di records\\n', righe.count())\n",
    "print('\\nNumero di NaN per ogni colonna:\\n', righe.isnull().sum())"
   ]
  },
  {
   "cell_type": "code",
   "execution_count": 6,
   "metadata": {},
   "outputs": [
    {
     "name": "stdout",
     "output_type": "stream",
     "text": [
      "Numero totale di ID_DICHIARAZIONE:  18115\n",
      "Numero ID_DICHIARAZIONE unici:  6272\n",
      "ID_DICHIARAZIONE si ripete ? --> True\n",
      "ID_DICHIARAZIONE si ripete con tutti ? --> False\n"
     ]
    }
   ],
   "source": [
    "# Il numero dei ID_DICHIARAZIONE nel file RIGHE NON corrisponde al numero di records (6273) e molti si ripetono ma non tutti\n",
    "print('Numero totale di ID_DICHIARAZIONE: ', righe.ID_DICHIARAZIONE.count())\n",
    "print('Numero ID_DICHIARAZIONE unici: ', righe.ID_DICHIARAZIONE.nunique())\n",
    "print('ID_DICHIARAZIONE si ripete ? -->', any(righe.ID_DICHIARAZIONE.value_counts()>1))\n",
    "print('ID_DICHIARAZIONE si ripete con tutti ? -->', all(righe.ID_DICHIARAZIONE.value_counts()>1))"
   ]
  },
  {
   "cell_type": "code",
   "execution_count": 7,
   "metadata": {},
   "outputs": [
    {
     "name": "stdout",
     "output_type": "stream",
     "text": [
      "<class 'pandas.core.frame.DataFrame'>\n",
      "Int64Index: 18116 entries, 0 to 18115\n",
      "Data columns (total 24 columns):\n",
      " #   Column                Non-Null Count  Dtype  \n",
      "---  ------                --------------  -----  \n",
      " 0   ID_DICHIARAZIONE      18116 non-null  int64  \n",
      " 1   a_codice_ordine       18116 non-null  object \n",
      " 2   a_cod_comparto_x      18116 non-null  object \n",
      " 3   a_anno_x              18116 non-null  int64  \n",
      " 4   a_mese_x              18116 non-null  int64  \n",
      " 5   a_trimestre_x         18116 non-null  int64  \n",
      " 6   a_peso_totale         18115 non-null  object \n",
      " 7   a_imponibile_x        18116 non-null  float64\n",
      " 8   a_anno_y              18115 non-null  float64\n",
      " 9   a_mese_y              18115 non-null  float64\n",
      " 10  a_trimestre_y         18115 non-null  float64\n",
      " 11  a_imponibile_y        18115 non-null  object \n",
      " 12  a_peso                18115 non-null  object \n",
      " 13  a_quantita            18115 non-null  float64\n",
      " 14  a_codice_listino      18115 non-null  object \n",
      " 15  a_raggruppamento      18115 non-null  object \n",
      " 16  a_um_codice           18115 non-null  object \n",
      " 17  a_descrizione         18114 non-null  object \n",
      " 18  a_cod_categoria       18115 non-null  float64\n",
      " 19  a_cod_sottocategoria  18115 non-null  float64\n",
      " 20  a_cod_tipologia       18113 non-null  float64\n",
      " 21  a_cod_sottotipologia  18115 non-null  float64\n",
      " 22  a_cod_comparto_y      18115 non-null  object \n",
      " 23  ID_VOCE               18115 non-null  float64\n",
      "dtypes: float64(10), int64(4), object(10)\n",
      "memory usage: 3.5+ MB\n"
     ]
    }
   ],
   "source": [
    "# ID NON CONSIDERATO --> ID = 30154 --> FAI LIST(SET(df.ID_DICHIARAZIONE) - SET(ldf.where(df.ID_DICHIARAZIONE.notna()))) \n",
    "# lst = list(df.a_descrizione.unique()) ESEMPIO\n",
    "ldf = pd.merge(dichiarazioni, righe, how='left', on='ID_DICHIARAZIONE')\n",
    "# ldf.where(df.ID_DICHIARAZIONE.notna())\n",
    "ldf.info()"
   ]
  },
  {
   "cell_type": "code",
   "execution_count": 8,
   "metadata": {},
   "outputs": [],
   "source": [
    "df = pd.merge(dichiarazioni, righe, on='ID_DICHIARAZIONE')"
   ]
  },
  {
   "cell_type": "code",
   "execution_count": 9,
   "metadata": {},
   "outputs": [
    {
     "name": "stdout",
     "output_type": "stream",
     "text": [
      "True\n",
      "True\n",
      "True\n",
      "True\n",
      "convert  a_anno  to string\n",
      "convert  a_mese  to string\n",
      "convert  a_trimestre  to string\n",
      "<class 'pandas.core.frame.DataFrame'>\n",
      "Int64Index: 18115 entries, 0 to 18114\n",
      "Data columns (total 20 columns):\n",
      " #   Column                Non-Null Count  Dtype  \n",
      "---  ------                --------------  -----  \n",
      " 0   ID_DICHIARAZIONE      18115 non-null  int64  \n",
      " 1   a_codice_ordine       18115 non-null  object \n",
      " 2   a_cod_comparto        18115 non-null  object \n",
      " 3   a_anno                18115 non-null  object \n",
      " 4   a_mese                18115 non-null  object \n",
      " 5   a_trimestre           18115 non-null  object \n",
      " 6   a_peso_totale         18115 non-null  object \n",
      " 7   a_imponibile_x        18115 non-null  float64\n",
      " 8   a_imponibile_y        18115 non-null  object \n",
      " 9   a_peso                18115 non-null  object \n",
      " 10  a_quantita            18115 non-null  int64  \n",
      " 11  a_codice_listino      18115 non-null  object \n",
      " 12  a_raggruppamento      18115 non-null  object \n",
      " 13  a_um_codice           18115 non-null  object \n",
      " 14  a_descrizione         18114 non-null  object \n",
      " 15  a_cod_categoria       18115 non-null  int64  \n",
      " 16  a_cod_sottocategoria  18115 non-null  int64  \n",
      " 17  a_cod_tipologia       18113 non-null  float64\n",
      " 18  a_cod_sottotipologia  18115 non-null  int64  \n",
      " 19  ID_VOCE               18115 non-null  int64  \n",
      "dtypes: float64(2), int64(6), object(12)\n",
      "memory usage: 2.9+ MB\n"
     ]
    }
   ],
   "source": [
    "# CONTROLLO RIDONDANZA COLONNE\n",
    "print(np.all(df.a_anno_x ==df.a_anno_y))\n",
    "print(np.all(df.a_mese_x ==df.a_mese_y))\n",
    "print(np.all(df.a_trimestre_x ==df.a_trimestre_y))\n",
    "print(np.all(df.a_cod_comparto_x ==df.a_cod_comparto_y))\n",
    "# ELIMINO COLONNE SUPERFLUE\n",
    "delete_col = ['a_anno_y', 'a_mese_y', 'a_trimestre_y', 'a_cod_comparto_y']\n",
    "rename_col = {'a_anno_x': 'a_anno', 'a_mese_x': 'a_mese', 'a_trimestre_x': 'a_trimestre', 'a_cod_comparto_x': 'a_cod_comparto'}\n",
    "df = df.drop(delete_col, axis=1)\n",
    "df = df.rename(columns=rename_col)\n",
    "for col in ['a_anno', 'a_mese', 'a_trimestre']:\n",
    "        print(\"convert \", df[col].name, \" to string\")\n",
    "        df[col] = df[col].astype(str)\n",
    "\n",
    "# df[['a_cod_categoria', 'a_descrizione']].head()\n",
    "df.info()"
   ]
  },
  {
   "cell_type": "code",
   "execution_count": 10,
   "metadata": {},
   "outputs": [
    {
     "data": {
      "image/png": "[encoded data removed]",
      "text/plain": [
       "<Figure size 720x432 with 1 Axes>"
      ]
     },
     "metadata": {
      "needs_background": "light"
     },
     "output_type": "display_data"
    }
   ],
   "source": [
    "# istogramma CODICI CON MAGGIOR NUMERO ORDINI\n",
    "plt.figure(figsize=(10, 6))\n",
    "\n",
    "# soglia minima vendite analizzate\n",
    "cutoff = 1e6\n",
    "mask = df['a_quantita'] > cutoff\n",
    "# stat = df[mask].groupby(['a_codice_ordine']).agg({'a_quantita': 'sum'})\n",
    "stat = df[mask].groupby(['a_codice_ordine'])['a_quantita'].sum()\n",
    "stat.plot.bar()\n",
    "plt.title('CODICI CON MAGGIOR NUMERO ORDINI')\n",
    "plt.xlabel('')\n",
    "plt.ylabel('QUANTITA ORDINI')\n",
    "plt.legend('')\n",
    "plt.show()"
   ]
  },
  {
   "cell_type": "code",
   "execution_count": 11,
   "metadata": {},
   "outputs": [
    {
     "data": {
      "image/png": "[encoded data removed]",
      "text/plain": [
       "<Figure size 720x360 with 2 Axes>"
      ]
     },
     "metadata": {
      "needs_background": "light"
     },
     "output_type": "display_data"
    }
   ],
   "source": [
    "explode = (0, 0, 0, 0.1, 0)\n",
    "stat = df.groupby(['a_anno'])['a_quantita'].sum()\n",
    "\n",
    "fig, ax = plt.subplots(ncols=2, figsize=(10,5))\n",
    "ax[0].plot(stat, marker='o')\n",
    "ax[0].set(xlabel='anno', ylabel='quantita ordini')\n",
    "\n",
    "ax[1] = plt.pie(stat, explode=explode, labels=stat.index, autopct='%1.1f%%', shadow=True, startangle=90)\n",
    "\n",
    "fig.subplots_adjust(left=.1, right=.9)\n",
    "\n",
    "plt.show()"
   ]
  },
  {
   "cell_type": "code",
   "execution_count": 12,
   "metadata": {},
   "outputs": [
    {
     "name": "stdout",
     "output_type": "stream",
     "text": [
      "a_cod_categoria\n",
      "1       1801403\n",
      "2       4844895\n",
      "3      22987828\n",
      "4      12431997\n",
      "5     106351555\n",
      "6       9057628\n",
      "7       2508734\n",
      "8       1429974\n",
      "9        817777\n",
      "10        10492\n",
      "Name: a_quantita, dtype: int64\n"
     ]
    },
    {
     "data": {
      "image/png": "[encoded data removed]",
      "text/plain": [
       "<Figure size 720x720 with 1 Axes>"
      ]
     },
     "metadata": {
      "needs_background": "light"
     },
     "output_type": "display_data"
    }
   ],
   "source": [
    "# NUMERO TOTALE ORDINI PER CATEGORIE \n",
    "stat = df.groupby(['a_cod_categoria'])['a_quantita'].sum()\n",
    "print(stat)\n",
    "plt.figure(figsize=(10, 10))\n",
    "plt.bar(stat.index, stat, width=0.8)\n",
    "# plt.xticks(np.arange(1,11), ('FORNI-\\nFRIGO', 'TV-\\nSCHERMI', 'PC-\\nTELEFONIA', \n",
    "#                            'INVERTER-\\nBATTERIE', 'LAMPADE', 'TORNIO-\\nFRESA',\n",
    "#                           'SPORT', 'LAB', 'TENNOSTATI', 'DISTRIB'))\n",
    "plt.xticks(np.arange(1,11), ('APP.\\nVENTIL e RISCALD', 'UTEN. CUCINA', 'PC', \n",
    "                           'ELETTRODOM.', 'ILLUM.\\nRILEV.', 'UTEN.\\nUFF.',\n",
    "                          'GIOCHI\\nSPORT', 'APP.\\nDIAGN.', 'STRUM.\\nMISUR.', 'DISTRIB.'))\n",
    "\n",
    "plt.title('NUMERO TOTALE ORDINI PER CATEGORIE')\n",
    "plt.savefig('ordini_categorie_hist.png')\n",
    "plt.show()\n",
    "\n",
    "# FAI STACKED BAR mettendo le sottocategorie\n",
    "# CAMBIA TITOLO CATEGORIE? CERCA PAROLA PIù comune nelle descrizioni"
   ]
  },
  {
   "cell_type": "markdown",
   "metadata": {},
   "source": [
    "# ALGORITMO MACHINE LEARNING PER MODELLI PREDITTIVI"
   ]
  },
  {
   "cell_type": "markdown",
   "metadata": {},
   "source": [
    "## CLASSIFICAZIONE CATEGORIA OGGETTO A PARTIRE DALLA DESCRIZIONE PRODOTTO"
   ]
  },
  {
   "cell_type": "markdown",
   "metadata": {},
   "source": [
    "## Creazione del database"
   ]
  },
  {
   "cell_type": "code",
   "execution_count": 13,
   "metadata": {},
   "outputs": [],
   "source": [
    "from nltk.corpus import stopwords\n",
    "import re\n",
    "import string\n",
    "import sqlite3\n",
    "import json\n",
    "\n",
    "categorie = \"\"\"\n",
    "    CREATE TABLE if not exists categorie(id INTEGER PRIMARY KEY AUTOINCREMENT, categoria VARCHAR(50) NOT NULL);\n",
    "\"\"\"\n",
    "\n",
    "descrizioni = \"\"\"\n",
    "CREATE TABLE if not exists descrizioni(\n",
    "       id INTEGER PRIMARY KEY AUTOINCREMENT,\n",
    "       descrizione VARCHAR(255) NOT NULL,\n",
    "       id_categoria INTEGER NOT NULL,\n",
    "       \n",
    "       FOREIGN KEY (id_categoria) REFERENCES categorie (id)\n",
    "    );\n",
    "\"\"\"\n",
    "\n",
    "# creo il db e mi ci connetto\n",
    "database = \"test_MT.db\"\n",
    "conn = sqlite3.connect(database)\n",
    "cursor = conn.cursor()\n",
    "\n",
    "\n",
    "# creo le tabelle\n",
    "for tabella in (categorie, descrizioni):\n",
    "    cursor.execute(tabella)\n",
    "\n",
    "# scrivo i dati \n",
    "\n",
    "# categories = ['FORNI-FRIGO', 'TV-SCHERMI', 'PC-TELEFONIA','INVERTER-BATTERIE', 'LAMPADE', 'TORNIO-FRESA',\n",
    "#              'SPORT', 'LABORATORIO', 'TERMOSTATI', 'DISTRIB']\n",
    "\n",
    "categories = ['APP.VENTIL. RISCALD.', 'UTEN. CUCINA', 'PC','ELETTRODOM.', 'ILLUM. RILEV.', 'UTEN. UFF.',\n",
    "             'GIOCHI SPORT', 'APP. DIAGN.', 'STRUM. MISUR.', 'DISTRIB.']\n",
    "\n",
    "for el in categories:\n",
    "    # aggiungo la categoria se non esiste\n",
    "    q = \"INSERT INTO categorie (categoria) VALUES ('{}')\"\n",
    "    cursor.execute(q.format(el))\n",
    "    \n",
    "# aggiungo le descrizioni\n",
    "\n",
    "stopwords = set(stopwords.words('italian'))\n",
    "\n",
    "regex = re.compile('[%s]' % re.escape(string.punctuation))\n",
    "\n",
    "def bagOfWords(elem):\n",
    "    \"\"\"\n",
    "    Partiziona la stringa in un elenco di parole.\n",
    "    rimuove spazi, caratteri di punteggiatura,\n",
    "    stop words, parole specifiche e caratteri speciali.\n",
    "    Trasforma tutte le maiuscole in minuscole.\n",
    "    \"\"\"\n",
    "    stringa = str(elem)\n",
    "    words = stringa.lower().strip().split(' ')\n",
    "    for word in words:\n",
    "        word = word.rstrip().lstrip()\n",
    "        if not re.match(':\\/\\/.*[\\r\\n]*', word) \\\n",
    "        and not re.match('^÷*[kg]', word) \\\n",
    "        and not re.match(\"\\d\", word) \\\n",
    "        and not re.match('^@.*\"\"', word) \\\n",
    "        and re.match('^[a-z]', word) \\\n",
    "        and not re.match('\\s', word) \\\n",
    "        and word not in stopwords:\n",
    "            word = regex.sub(\"\", word)\n",
    "            if word:\n",
    "                word.replace('\"', '')\n",
    "                yield word\n",
    "\n",
    "\n",
    "# lista array (descrizione, categoria)\n",
    "v_list = list(df[['a_descrizione', 'a_cod_categoria']].values)\n",
    "\n",
    "desc = [(list(bagOfWords(desc)), cat) for desc, cat in v_list]\n",
    "\n",
    "for descrizione, categoria in desc:\n",
    "    q = \"\"\"\n",
    "        INSERT INTO descrizioni (descrizione, id_categoria)\n",
    "        VALUES\n",
    "            (\"{0}\", \"{1}\")\n",
    "    \"\"\".format(descrizione, categoria)\n",
    "    cursor.execute(q)\n",
    "\n"
   ]
  },
  {
   "cell_type": "markdown",
   "metadata": {},
   "source": [
    "# Ricavare le parole significative nelle descrizioni (temi)"
   ]
  },
  {
   "cell_type": "markdown",
   "metadata": {},
   "source": [
    "### Uso modulo word_tokenize della libreria nltk per estrarre singole parole (token)"
   ]
  },
  {
   "cell_type": "code",
   "execution_count": 14,
   "metadata": {},
   "outputs": [],
   "source": [
    "from nltk import word_tokenize\n",
    "\n",
    "def elabora_corpus(corpus):\n",
    "    \"\"\"\n",
    "    corpus sarà una lista di tuple, formata da:\n",
    "    [\n",
    "        (\"una descrizione\", \"categoria1\"),\n",
    "        (\"un'altra descrizione\", \"categoria2\")\n",
    "    ]\n",
    "    \"\"\"\n",
    "    temi = set()\n",
    "    categorie = set()\n",
    "    documenti = []\n",
    "    boo = []\n",
    "    \n",
    "    for descrizione, categoria in corpus:\n",
    "        parole = [\n",
    "            p.replace(\"'\", '') for p in word_tokenize(descrizione)\n",
    "            if p not in stopwords\n",
    "            and p not in string.punctuation\n",
    "        ]\n",
    "        temi.update(parole)\n",
    "        documenti.append((parole, categoria))\n",
    "        categorie.add(categoria)\n",
    "    \n",
    "    temi = list(set(parola for parola in temi))\n",
    "    categorie = list(categorie)\n",
    "\n",
    "    return temi, categorie, documenti"
   ]
  },
  {
   "cell_type": "code",
   "execution_count": 15,
   "metadata": {},
   "outputs": [],
   "source": [
    "# q = \"\"\"\n",
    "#     SELECT  descrizione, categoria\n",
    "#     FROM descrizioni\n",
    "#     INNER JOIN categorie ON (id_categoria = categorie.id)\n",
    "# \"\"\"\n",
    "\n",
    "# documenti = cursor.execute(q).fetchall()\n",
    "# print(documenti[3:5])\n",
    "# boo = []\n",
    "\n",
    "# for descrizione, categoria in documenti[3:5]:\n",
    "\n",
    "#     parole = [\n",
    "#         p.replace(\"'\", '') for p in word_tokenize(descrizione)\n",
    "#         if p not in stopwords\n",
    "#         and p not in string.punctuation\n",
    "#     ]\n",
    "#     boo.append(all(descrizione)==all(parole))\n",
    "#     print('D', descrizione)\n",
    "#     print('P', parole)\n",
    "        \n",
    "# print(all(boo))"
   ]
  },
  {
   "cell_type": "code",
   "execution_count": 16,
   "metadata": {},
   "outputs": [
    {
     "name": "stdout",
     "output_type": "stream",
     "text": [
      "[(\"['asciugatrici']\", 'APP.VENTIL. RISCALD.'), (\"['forni', 'microonde']\", 'APP.VENTIL. RISCALD.'), (\"['apparecchi', 'condizionamento', 'definiti', 'disposizioni', 'attuazione', 'direttiva', 'dell8', 'maggio', 'commissione', 'stabilisce', 'modalità', 'applicazione', 'direttiva', 'consiglio', 'riguarda', 'letichettatura', 'indicante', 'consumo', 'energia', 'forni', 'elettrici', 'uso', 'domestico']\", 'APP.VENTIL. RISCALD.')]\n",
      "Numero categorie = 10\n",
      "Numero documenti = 18115\n",
      "Numero temi = 402\n"
     ]
    }
   ],
   "source": [
    "q = \"\"\"\n",
    "    SELECT  descrizione, categoria\n",
    "    FROM descrizioni\n",
    "    INNER JOIN categorie ON (id_categoria = categorie.id)\n",
    "\"\"\"\n",
    "\n",
    "documenti = cursor.execute(q).fetchall()\n",
    "print(documenti[3:6])\n",
    "\n",
    "# elabora_corpus(<[(descrizione, categoria)]>)\n",
    "temi, categorie, documenti = elabora_corpus(documenti)\n",
    "print(\"Numero categorie = {}\".format(len(categorie)))\n",
    "print(\"Numero documenti = {}\".format(len(documenti)))\n",
    "print('Numero temi = {}'.format(len(temi)))\n"
   ]
  },
  {
   "cell_type": "markdown",
   "metadata": {},
   "source": [
    "# Da un testo al numero"
   ]
  },
  {
   "cell_type": "code",
   "execution_count": 17,
   "metadata": {},
   "outputs": [],
   "source": [
    "import random\n",
    "\n",
    "def crea_training_set(documenti, categorie):\n",
    "    \"\"\"\n",
    "    Metodo che ritorna una tupla di due valori:\n",
    "        - l'array degli input (train_x)\n",
    "        - l'array degli output (train_y)\n",
    "        \n",
    "    I due array hanno lungezza fissa:\n",
    "     - len(train_x) == len(temi)\n",
    "     - len(train_y) == len(categorie) \n",
    "    \"\"\"\n",
    "    training = []\n",
    "    output_vuota = [0] * len(categorie)\n",
    "    categorie = list(categorie)\n",
    "\n",
    "    for parole, categoria in documenti:\n",
    "        \n",
    "        temi_descrizione = [parola for parola in parole]\n",
    "        \n",
    "        # riempio la lista di input\n",
    "        riga_input = [1 if t in temi_descrizione else 0 for t in temi]\n",
    "\n",
    "        # riempio la lista di output\n",
    "        riga_output = output_vuota[:]\n",
    "        riga_output[categorie.index(categoria)] = 1\n",
    "\n",
    "        training.append([riga_input, riga_output])\n",
    "\n",
    "    # mischio il mazzo\n",
    "    random.shuffle(training)\n",
    "    # trasformo in un array\n",
    "    training = np.array(training)\n",
    "\n",
    "    # e creo il training set\n",
    "    train_x = list(training[:, 0])\n",
    "    train_y = list(training[:, 1])\n",
    "    return train_x, train_y"
   ]
  },
  {
   "cell_type": "code",
   "execution_count": 18,
   "metadata": {},
   "outputs": [],
   "source": [
    "# TRAINING CON 12680 delle 18115 descrizioni (70%) a disposizione\n",
    "PERC = 70\n",
    "nint = int(len(documenti)*int(PERC)/100)"
   ]
  },
  {
   "cell_type": "code",
   "execution_count": 19,
   "metadata": {},
   "outputs": [
    {
     "name": "stderr",
     "output_type": "stream",
     "text": [
      "C:\\Users\\Utente\\Anaconda3\\lib\\site-packages\\ipykernel_launcher.py:33: VisibleDeprecationWarning: Creating an ndarray from ragged nested sequences (which is a list-or-tuple of lists-or-tuples-or ndarrays with different lengths or shapes) is deprecated. If you meant to do this, you must specify 'dtype=object' when creating the ndarray\n"
     ]
    }
   ],
   "source": [
    "TRAIN_SET = documenti[:nint]\n",
    "TEST_SET = documenti[nint:]\n",
    "\n",
    "X, y = crea_training_set(TRAIN_SET, categorie)"
   ]
  },
  {
   "cell_type": "code",
   "execution_count": 20,
   "metadata": {},
   "outputs": [
    {
     "name": "stdout",
     "output_type": "stream",
     "text": [
      "Categorie = ['ELETTRODOM.', 'GIOCHI SPORT', 'PC', 'APP. DIAGN.', 'ILLUM. RILEV.', 'DISTRIB.', 'UTEN. CUCINA', 'APP.VENTIL. RISCALD.', 'UTEN. UFF.', 'STRUM. MISUR.']\n",
      "[('APP.VENTIL. RISCALD.',), ('UTEN. CUCINA',)]\n",
      "[[0, 0, 0, 0, 0, 0, 0, 1, 0, 0], [0, 0, 0, 0, 0, 0, 1, 0, 0, 0]]\n"
     ]
    },
    {
     "name": "stderr",
     "output_type": "stream",
     "text": [
      "C:\\Users\\Utente\\Anaconda3\\lib\\site-packages\\ipykernel_launcher.py:33: VisibleDeprecationWarning: Creating an ndarray from ragged nested sequences (which is a list-or-tuple of lists-or-tuples-or ndarrays with different lengths or shapes) is deprecated. If you meant to do this, you must specify 'dtype=object' when creating the ndarray\n"
     ]
    }
   ],
   "source": [
    "q = \"\"\"\n",
    "    SELECT  categoria\n",
    "    FROM descrizioni\n",
    "    INNER JOIN categorie ON (id_categoria = categorie.id)\n",
    "\"\"\"\n",
    "doc_test = cursor.execute(q).fetchall()\n",
    "\n",
    "Xtest, ytest = crea_training_set(documenti[6:8], categorie)\n",
    "print(\"Categorie = {}\".format(categorie))\n",
    "print(doc_test[6:8])\n",
    "print(ytest)"
   ]
  },
  {
   "cell_type": "markdown",
   "metadata": {},
   "source": [
    "# Il cervello del BOT\n",
    "\n",
    "#### Rete neurale con 1 livello di input, 2 livelli nascosti, 1 livello di output "
   ]
  },
  {
   "cell_type": "code",
   "execution_count": 21,
   "metadata": {},
   "outputs": [],
   "source": [
    "# PARAMETRI INIZIALI\n",
    "HIDDEN_NODES = 64\n",
    "EPOCHS = 150"
   ]
  },
  {
   "cell_type": "code",
   "execution_count": 22,
   "metadata": {
    "scrolled": true
   },
   "outputs": [
    {
     "name": "stdout",
     "output_type": "stream",
     "text": [
      "WARNING:tensorflow:From C:\\Users\\Utente\\Anaconda3\\lib\\site-packages\\tensorflow\\python\\compat\\v2_compat.py:96: disable_resource_variables (from tensorflow.python.ops.variable_scope) is deprecated and will be removed in a future version.\n",
      "Instructions for updating:\n",
      "non-resource variables are not supported in the long term\n",
      "curses is not supported on this machine (please install/reinstall curses for an optimal experience)\n"
     ]
    }
   ],
   "source": [
    "import tensorflow as tf\n",
    "import tflearn\n",
    "from tflearn import input_data, fully_connected, regression, DNN\n",
    "\n",
    "\n",
    "# def ClassificatoreANN(X, y):\n",
    "#     \"\"\"\n",
    "#     Questo metodo definisce e istruisce una \n",
    "#     ANN (Artificial Neural Network), di tipo\n",
    "#     DNN (Deep Neural Network) composta da:\n",
    "#         - un livello di input, \n",
    "#         - due hidden\n",
    "#         layer,\n",
    "#         - uno di output.\n",
    "#     Utilizza softmax come funzione di attivazione.\n",
    "    \n",
    "#     I parametri sono:\n",
    "#        - X: array bidimensionale con i dati di input\n",
    "#        - y: array bidimensionale con i dati di output\n",
    "       \n",
    "#     Una volta definita la struttura della rete neurale,\n",
    "#     ne viene fatto il training, e il modello viene\n",
    "#     salvato in un file, chiamato \"rete.tflearn\".\n",
    "#     \"\"\"\n",
    "    \n",
    "#     # resetto i dati del grafo\n",
    "#     tf.compat.v1.reset_default_graph()\n",
    "    \n",
    "#     # Definire la Rete Neurale\n",
    "#     rete = input_data(shape=[None, len(X[0])])\n",
    "#     rete = fully_connected(rete, HIDDEN_NODES)\n",
    "#     rete = fully_connected(rete, HIDDEN_NODES)\n",
    "#     rete = fully_connected(rete, len(y[0]), activation='softmax')\n",
    "#     rete = regression(rete)\n",
    "    \n",
    "#     # Faccio il training\n",
    "#     model = DNN(rete, tensorboard_dir='logs', tensorboard_verbose=3)\n",
    "#     model.fit(X, y, n_epoch=EPOCHS, batch_size=8, snapshot_epoch=True, snapshot_step=500, \n",
    "#               run_id='TB_{}perc_ep{}_hid_{}'.format(PERC, EPOCHS, HIDDEN_NODES), show_metric=True)\n",
    "#     # Salvataggio modello\n",
    "#     model.save('Reti/rete_{}perc_ep{}_hid_{}'.format(PERC, EPOCHS, HIDDEN_NODES))\n",
    "#     return model\n",
    "\n",
    "# modello = ClassificatoreANN(X, y)"
   ]
  },
  {
   "cell_type": "code",
   "execution_count": 23,
   "metadata": {},
   "outputs": [
    {
     "name": "stdout",
     "output_type": "stream",
     "text": [
      "Training Step: 267599  | total loss: \u001b[1m\u001b[32m0.16520\u001b[0m\u001b[0m | time: 1.146s\n",
      "| Adam | epoch: 150 | loss: 0.16520 - acc: 0.8990 -- iter: 12672/12680\n",
      "Training Step: 267600  | total loss: \u001b[1m\u001b[32m0.16339\u001b[0m\u001b[0m | time: 1.152s\n",
      "| Adam | epoch: 150 | loss: 0.16339 - acc: 0.9013 -- iter: 12680/12680\n",
      "--\n"
     ]
    }
   ],
   "source": [
    "# PER IL CARICAMENTO\n",
    "\n",
    "def ClassificatoreANN():\n",
    "    tf.compat.v1.reset_default_graph()\n",
    "    rete = input_data(shape=[None, len(X[0])])\n",
    "    rete = fully_connected(rete, HIDDEN_NODES)\n",
    "    rete = fully_connected(rete, HIDDEN_NODES)\n",
    "    rete = fully_connected(rete, len(y[0]), activation='softmax')\n",
    "    rete = regression(rete)\n",
    "    \n",
    "    model = DNN(rete, tensorboard_dir='logs', tensorboard_verbose=3) \n",
    "    \n",
    "    # Caricamento modello precedente\n",
    "    model.load(\"Reti/rete_{}perc_ep{}_hid_{}\".format(PERC, EPOCHS, HIDDEN_NODES))\n",
    "    \n",
    "    # Recupero training\n",
    "    model.fit(X, y, n_epoch=EPOCHS,\n",
    "              show_metric=True,\n",
    "              snapshot_epoch=True,\n",
    "              run_id='TB_{}perc_ep{}_hid_{}'.format(PERC, EPOCHS, HIDDEN_NODES))\n",
    "    return model\n",
    "\n",
    "modello = ClassificatoreANN() "
   ]
  },
  {
   "cell_type": "code",
   "execution_count": 24,
   "metadata": {},
   "outputs": [],
   "source": [
    "# DA LISTA DI PAROLE a LISTA DI 0 e 1\n",
    "def genera_input(lista_temi):\n",
    "    \"\"\"\n",
    "    Conversione da lista di temi\n",
    "    a lista di cifre costituita da 0 (no match) e 1 (match)\n",
    "    \"\"\"\n",
    "    lista_input = [0]*len(temi) \n",
    "    for tema in lista_temi:\n",
    "        for i, t in enumerate(temi):\n",
    "            if t == tema: \n",
    "                lista_input[i] = 1\n",
    "    return(np.array(lista_input))"
   ]
  },
  {
   "cell_type": "code",
   "execution_count": 25,
   "metadata": {},
   "outputs": [],
   "source": [
    "SOGLIA_ERRORE = 0.25\n",
    "\n",
    "def classifica(modello, array):\n",
    "    # genera le probabilità\n",
    "    prob = modello.predict([array])[0]  # lista delle probabilità associate ad ognuna delle 10 categorie\n",
    "    # filtro quelle che superano la soglia\n",
    "    prob_d = {v: prob[i]  for i, v in enumerate(categorie)}\n",
    "    # print per test pochi dati\n",
    "#     print('mappa categoria - probabilita:\\n{}'.format(prob_d))\n",
    "    risultati = [\n",
    "        [i,p] for i,p in enumerate(prob) \n",
    "        if p > SOGLIA_ERRORE\n",
    "    ]\n",
    "    # ordino per le categorie più probabili in ordine decrescente\n",
    "    risultati.sort(key=lambda x: x[1], reverse=True)\n",
    "    lista_categorie = []\n",
    "    for r in risultati:\n",
    "        lista_categorie.append((list(categorie)[r[0]], r[1]))\n",
    "    return lista_categorie"
   ]
  },
  {
   "cell_type": "code",
   "execution_count": 26,
   "metadata": {},
   "outputs": [],
   "source": [
    "def trova_categorie(modello, temi_descrizione):\n",
    "#     print('\\nTEMI DESCRIZIONE IN INGRESSO {}\\n'.format(temi_descrizione))\n",
    "    X = genera_input(temi_descrizione)\n",
    "    # genero la classifica delle categorie predette (almeno con 25%)\n",
    "    # inserendo i temi di input nel modello di rete neurale  \n",
    "    categorie_predette = classifica(modello, X)\n",
    "    \n",
    "    if categorie_predette:\n",
    "        # SELEZIONO CATEGORIE CON PROBABILITA' >= SOGLIA_ERRORE = 25%\n",
    "        return categorie_predette"
   ]
  },
  {
   "cell_type": "code",
   "execution_count": 27,
   "metadata": {},
   "outputs": [],
   "source": [
    "cat_list = ['APP.VENTIL. RISCALD.', 'UTEN. CUCINA', 'PC','ELETTRODOM.', 'ILLUM. RILEV.', 'UTEN. UFF.',\n",
    "           'GIOCHI SPORT', 'APP. DIAGN.', 'STRUM. MISUR.', 'DISTRIB.']"
   ]
  },
  {
   "cell_type": "code",
   "execution_count": 28,
   "metadata": {},
   "outputs": [],
   "source": [
    "def estrai_temi(doc_in):\n",
    "    \"\"\"\n",
    "    Estraggo i temi a partire\n",
    "    dal documento in ingresso\n",
    "    costituito dalla lista di tuple\n",
    "    (descrizione, categoria)\n",
    "    \"\"\"\n",
    "    temi_in = set()\n",
    "    for descrizione in doc_in:\n",
    "        temi_in.update([descrizione])\n",
    "\n",
    "    temi_test = list(temi_in)\n",
    "    \n",
    "    return temi_test"
   ]
  },
  {
   "cell_type": "markdown",
   "metadata": {},
   "source": [
    "# TEST FUNZIONAMENTO"
   ]
  },
  {
   "cell_type": "markdown",
   "metadata": {},
   "source": [
    "## TRAIN SET"
   ]
  },
  {
   "cell_type": "code",
   "execution_count": 29,
   "metadata": {},
   "outputs": [
    {
     "name": "stdout",
     "output_type": "stream",
     "text": [
      "\n",
      "TRAIN SET no. 1\n",
      "\n",
      "categoria osservata: APP.VENTIL. RISCALD.\n",
      "\n",
      "Le principali categorie (>=25%) predette sono 1 [(cat, prob)] --> [('APP.VENTIL. RISCALD.', 0.9980482)]\n",
      "\n",
      "<-------------------------------->\n",
      "\n",
      "TRAIN SET no. 2\n",
      "\n",
      "categoria osservata: APP.VENTIL. RISCALD.\n",
      "\n",
      "Le principali categorie (>=25%) predette sono 1 [(cat, prob)] --> [('APP.VENTIL. RISCALD.', 0.9980482)]\n",
      "\n",
      "<-------------------------------->\n",
      "\n",
      "TRAIN SET no. 3\n",
      "\n",
      "categoria osservata: APP.VENTIL. RISCALD.\n",
      "\n",
      "Le principali categorie (>=25%) predette sono 2 [(cat, prob)] --> [('ELETTRODOM.', 0.6092138), ('APP.VENTIL. RISCALD.', 0.3882116)]\n",
      "\n",
      "<-------------------------------->\n",
      "\n",
      "Comparazione per le 3 categorie osservate vs predette False\n"
     ]
    }
   ],
   "source": [
    "# Prova esempio di 3 dati all'interno intervallo righe tra 12681 e 18115 (test set)\n",
    "\n",
    "cat_oss = []\n",
    "cat_pred = []\n",
    "\n",
    "# prova qui documenti[12697:12700]\n",
    "\n",
    "for i, (desc_in, categoria_in) in enumerate(TRAIN_SET[:3]):\n",
    "    print('\\nTRAIN SET no. {}'.format(i+1))\n",
    "    temi_test = estrai_temi(desc_in)\n",
    "    print('\\ncategoria osservata: {}'.format(categoria_in))\n",
    "    cat_oss.append(categoria_in)\n",
    "    c_pred = trova_categorie(modello, temi_test)\n",
    "    cat_pred.append(c_pred[0][0])\n",
    "    print('\\nLe principali categorie (>=25%) predette sono {} [(cat, prob)] --> {}'\n",
    "          .format(len(c_pred), [(c_pred[i][0], c_pred[i][1]) for i in range(len(c_pred))]))\n",
    "    print('\\n<-------------------------------->')\n",
    "    \n",
    "# comparazione categoria osservata e categoria predetta con maggiore probabilità\n",
    "\n",
    "# l1 = ['a', 'b', 'c']\n",
    "# l2 = ['d', 'b', 'c']\n",
    "\n",
    "# l1 = np.array(l1)\n",
    "# l2 = np.array(l2)\n",
    "# print(np.all(l1==l2))\n",
    "\n",
    "cat_oss = np.array(cat_oss)\n",
    "cat_pred = np.array(cat_pred)\n",
    "print('\\nComparazione per le {} categorie osservate vs predette {}'.format(len(cat_oss), np.all(cat_oss==cat_pred)))"
   ]
  },
  {
   "cell_type": "code",
   "execution_count": 30,
   "metadata": {},
   "outputs": [],
   "source": [
    "cat_oss = []\n",
    "cat_pred = []\n",
    "\n",
    "# prova qui documenti[12697:12700]\n",
    "\n",
    "for i, (desc_in, categoria_in) in enumerate(TRAIN_SET):\n",
    "#     print('\\nTEST no. {}'.format(i+1))\n",
    "    temi_test = estrai_temi(desc_in)\n",
    "#     print('\\ncategoria osservata: {}'.format(categoria_in))\n",
    "    cat_oss.append(categoria_in)\n",
    "    c_pred = trova_categorie(modello, temi_test)\n",
    "    cat_pred.append(c_pred[0][0])\n",
    "#     print('\\nLe principali categorie (>=25%) predette sono {} [(cat, prob)] --> {}'\n",
    "#           .format(len(c_pred), [(c_pred[i][0], c_pred[i][1]) for i in range(len(c_pred))]))\n",
    "#     print('\\n<-------------------------------->')\n",
    "    \n",
    "# comparazione categoria osservata e categoria predetta con maggiore probabilità\n",
    "cat_oss = np.array(cat_oss)\n",
    "cat_pred = np.array(cat_pred)\n",
    "# print('\\nComparazione per le {} categorie osservate vs predette {}'.format(len(cat_oss), cat_oss==cat_pred))\n",
    "# print('Tutte le categorie {} osservate corrispondo a quelle predette ? --> {}'.format(len(cat_oss), np.all(cat_oss==cat_pred)))\n",
    "\n"
   ]
  },
  {
   "cell_type": "code",
   "execution_count": 31,
   "metadata": {},
   "outputs": [
    {
     "name": "stdout",
     "output_type": "stream",
     "text": [
      "True     11356\n",
      "False     1324\n",
      "Name: Equality, dtype: int64\n"
     ]
    },
    {
     "data": {
      "image/png": "[encoded data removed]",
      "text/plain": [
       "<Figure size 432x288 with 1 Axes>"
      ]
     },
     "metadata": {
      "needs_background": "light"
     },
     "output_type": "display_data"
    }
   ],
   "source": [
    "data = {\n",
    "    'Cat. Osservata': cat_oss,\n",
    "    'Cat. Predetta': cat_pred\n",
    "}\n",
    "\n",
    "df_stat = pd.DataFrame(data, columns=data.keys())\n",
    "df_stat['Equality'] = cat_oss == cat_pred\n",
    "\n",
    "stat = df_stat['Equality'].value_counts()\n",
    "print(stat)\n",
    "\n",
    "# -------------- PLOT --------------\n",
    "stat.plot(kind='bar', width=.3, color='green')\n",
    "plt.title('NUMERO ELEMENTI TRAIN SET = {}'.format(len(TRAIN_SET)))\n",
    "pc = [int(stat.iloc[0])/len(TRAIN_SET)*100, int(stat.iloc[1])/len(TRAIN_SET)*100]\n",
    "plt.xticks([stat.index[0], stat.index[1]], ['{}\\n{}\\n{:2.1f}%'.format(stat.index[0], stat.iloc[0], pc[0]), \n",
    "                          '{}\\n{}\\n{:2.1f}%'.format(stat.index[1], stat.iloc[1], pc[1])], rotation=0)\n",
    "plt.legend(['train_perc_{}\\nhidden nodes={}\\nepoch={}'.format(PERC, HIDDEN_NODES, EPOCHS)])\n",
    "# plt.savefig('Plot/equality_train_perc_{}_{}_hidden_nodes_epoch_{}.png'.format(PERC, HIDDEN_NODES, EPOCHS))\n",
    "plt.show()"
   ]
  },
  {
   "cell_type": "markdown",
   "metadata": {},
   "source": [
    "## TEST SET"
   ]
  },
  {
   "cell_type": "code",
   "execution_count": 32,
   "metadata": {},
   "outputs": [
    {
     "name": "stdout",
     "output_type": "stream",
     "text": [
      "\n",
      "TEST no. 1\n",
      "\n",
      "categoria osservata: PC\n",
      "\n",
      "Le principali categorie (>=25%) predette sono 2 [(cat, prob)] --> [('ILLUM. RILEV.', 0.6870026), ('PC', 0.30915502)]\n",
      "\n",
      "<-------------------------------->\n",
      "\n",
      "TEST no. 2\n",
      "\n",
      "categoria osservata: ELETTRODOM.\n",
      "\n",
      "Le principali categorie (>=25%) predette sono 1 [(cat, prob)] --> [('ELETTRODOM.', 0.99426866)]\n",
      "\n",
      "<-------------------------------->\n",
      "\n",
      "TEST no. 3\n",
      "\n",
      "categoria osservata: ELETTRODOM.\n",
      "\n",
      "Le principali categorie (>=25%) predette sono 1 [(cat, prob)] --> [('ELETTRODOM.', 0.99947864)]\n",
      "\n",
      "<-------------------------------->\n",
      "\n",
      "TEST no. 4\n",
      "\n",
      "categoria osservata: ILLUM. RILEV.\n",
      "\n",
      "Le principali categorie (>=25%) predette sono 1 [(cat, prob)] --> [('ILLUM. RILEV.', 0.81944364)]\n",
      "\n",
      "<-------------------------------->\n",
      "\n",
      "Comparazione per le 4 categorie osservate vs predette [False  True  True  True]\n",
      "Tutte le categorie 4 osservate corrispondo a quelle predette ? --> False\n"
     ]
    }
   ],
   "source": [
    "cat_oss = []\n",
    "cat_pred = []\n",
    "\n",
    "# prova qui documenti[12697:12700]\n",
    "\n",
    "for i, (desc_in, categoria_in) in enumerate(TEST_SET[46:50]):\n",
    "    print('\\nTEST no. {}'.format(i+1))\n",
    "    temi_test = estrai_temi(desc_in)\n",
    "    print('\\ncategoria osservata: {}'.format(categoria_in))\n",
    "    cat_oss.append(categoria_in)\n",
    "    c_pred = trova_categorie(modello, temi_test)\n",
    "    cat_pred.append(c_pred[0][0])\n",
    "    print('\\nLe principali categorie (>=25%) predette sono {} [(cat, prob)] --> {}'\n",
    "          .format(len(c_pred), [(c_pred[i][0], c_pred[i][1]) for i in range(len(c_pred))]))\n",
    "    print('\\n<-------------------------------->')\n",
    "    \n",
    "# comparazione categoria osservata e categoria predetta con maggiore probabilità\n",
    "cat_oss = np.array(cat_oss)\n",
    "cat_pred = np.array(cat_pred)\n",
    "print('\\nComparazione per le {} categorie osservate vs predette {}'.format(len(cat_oss), cat_oss==cat_pred))\n",
    "print('Tutte le categorie {} osservate corrispondo a quelle predette ? --> {}'.format(len(cat_oss), np.all(cat_oss==cat_pred)))"
   ]
  },
  {
   "cell_type": "code",
   "execution_count": 33,
   "metadata": {},
   "outputs": [],
   "source": [
    "cat_oss = []\n",
    "cat_pred = []\n",
    "\n",
    "# prova qui documenti[12697:12700]\n",
    "\n",
    "for i, (desc_in, categoria_in) in enumerate(TEST_SET):\n",
    "#     print('\\nTEST no. {}'.format(i+1))\n",
    "    temi_test = estrai_temi(desc_in)\n",
    "#     print('\\ncategoria osservata: {}'.format(categoria_in))\n",
    "    cat_oss.append(categoria_in)\n",
    "    c_pred = trova_categorie(modello, temi_test)\n",
    "    cat_pred.append(c_pred[0][0])\n",
    "#     print('\\nLe principali categorie (>=25%) predette sono {} [(cat, prob)] --> {}'\n",
    "#           .format(len(c_pred), [(c_pred[i][0], c_pred[i][1]) for i in range(len(c_pred))]))\n",
    "#     print('\\n<-------------------------------->')\n",
    "    \n",
    "# comparazione categoria osservata e categoria predetta con maggiore probabilità\n",
    "cat_oss = np.array(cat_oss)\n",
    "cat_pred = np.array(cat_pred)\n",
    "# print('\\nComparazione per le {} categorie osservate vs predette {}'.format(len(cat_oss), cat_oss==cat_pred))\n",
    "# print('Tutte le categorie {} osservate corrispondo a quelle predette ? --> {}'.format(len(cat_oss), np.all(cat_oss==cat_pred)))"
   ]
  },
  {
   "cell_type": "code",
   "execution_count": 34,
   "metadata": {},
   "outputs": [
    {
     "name": "stdout",
     "output_type": "stream",
     "text": [
      "True     4867\n",
      "False     568\n",
      "Name: Equality, dtype: int64\n"
     ]
    },
    {
     "data": {
      "image/png": "[encoded data removed]",
      "text/plain": [
       "<Figure size 432x288 with 1 Axes>"
      ]
     },
     "metadata": {
      "needs_background": "light"
     },
     "output_type": "display_data"
    }
   ],
   "source": [
    "data = {\n",
    "    'Cat. Osservata': cat_oss,\n",
    "    'Cat. Predetta': cat_pred\n",
    "}\n",
    "\n",
    "df_stat = pd.DataFrame(data, columns=data.keys())\n",
    "df_stat['Equality'] = cat_oss == cat_pred\n",
    "\n",
    "stat = df_stat['Equality'].value_counts()\n",
    "print(stat)\n",
    "\n",
    "# -------------- PLOT --------------\n",
    "stat.plot(kind='bar', width=.3, color='green')\n",
    "plt.title('NUMERO ELEMENTI TEST SET = {}'.format(len(TEST_SET)))\n",
    "pc = [int(stat.iloc[0])/len(TEST_SET)*100, int(stat.iloc[1])/len(TEST_SET)*100]\n",
    "plt.xticks([stat.index[0], stat.index[1]], ['{}\\n{}\\n{:2.1f}%'.format(stat.index[0], stat.iloc[0], pc[0]), \n",
    "                          '{}\\n{}\\n{:2.1f}%'.format(stat.index[1], stat.iloc[1], pc[1])], rotation=0)\n",
    "plt.legend(['train_perc_{}\\nhidden nodes={}\\nepoch={}'.format(PERC, HIDDEN_NODES, EPOCHS)])\n",
    "# plt.savefig('Plot/equality_test_perc_{}_{}_hidden_nodes_epoch_{}.png'.format(PERC, HIDDEN_NODES, EPOCHS))\n",
    "plt.show()"
   ]
  },
  {
   "cell_type": "markdown",
   "metadata": {},
   "source": [
    "# ACCURATEZZA MODELLO"
   ]
  },
  {
   "cell_type": "markdown",
   "metadata": {},
   "source": [
    "## TRAINING SET"
   ]
  },
  {
   "cell_type": "code",
   "execution_count": 35,
   "metadata": {},
   "outputs": [
    {
     "name": "stdout",
     "output_type": "stream",
     "text": [
      "       HID COL              \n",
      "            64    128    256\n",
      "EP 50    11381  11397  11347\n",
      "   100   11384  11394  11352\n",
      "   150   11445  11398  11392\n"
     ]
    },
    {
     "data": {
      "image/png": "[encoded data removed]",
      "text/plain": [
       "<Figure size 432x288 with 1 Axes>"
      ]
     },
     "metadata": {
      "needs_background": "light"
     },
     "output_type": "display_data"
    }
   ],
   "source": [
    "## number True vs epoch\n",
    "import pandas as pd\n",
    "import matplotlib.pyplot as plt\n",
    "\n",
    "TRAIN_SET = 12680 *[1]\n",
    "\n",
    "ind = [('EP', '50'), ('EP', '100'), ('EP', '150')]\n",
    "col = [('HID COL', '64'), ('HID COL', '128'), ('HID COL', '256')]\n",
    "\n",
    "data = [[11381, 11397, 11347], [11384, 11394, 11352], [11445, 11398, 11392]]\n",
    "\n",
    "df = pd.DataFrame(data, index=ind, columns=col)\n",
    "\n",
    "df.columns = pd.MultiIndex.from_tuples(df.columns)\n",
    "df.index = pd.MultiIndex.from_tuples(df.index)\n",
    "\n",
    "print(df)\n",
    "\n",
    "y0 = df.loc[df.index[0], ('HID COL', '64')] / len(TRAIN_SET) *100\n",
    "y1= df.loc[df.index[1], ('HID COL', '64')] / len(TRAIN_SET) *100\n",
    "y2 = df.loc[df.index[2], ('HID COL', '64')] / len(TRAIN_SET) * 100\n",
    "\n",
    "y64 = [y0, y1, y2]\n",
    "y64 = df.loc[df.index, ('HID COL', '64')] / len(TRAIN_SET) * 100\n",
    "\n",
    "y0 = df.loc[df.index[0], ('HID COL', '128')] / len(TRAIN_SET) *100\n",
    "y1= df.loc[df.index[1], ('HID COL', '128')] / len(TRAIN_SET) *100\n",
    "y2 = df.loc[df.index[2], ('HID COL', '128')] / len(TRAIN_SET) *100\n",
    "\n",
    "y128 = [y0, y1, y2]\n",
    "\n",
    "y0 = df.loc[df.index[0], ('HID COL', '256')] / len(TRAIN_SET) *100\n",
    "y1= df.loc[df.index[1], ('HID COL', '256')] / len(TRAIN_SET) *100\n",
    "y2 = df.loc[df.index[2], ('HID COL', '256')] / len(TRAIN_SET) *100\n",
    "\n",
    "y256 = [y0, y1, y2]\n",
    "\n",
    "EP = [50, 100, 150]\n",
    "\n",
    "plt.plot(EP, y64, label='64', marker='o')\n",
    "plt.plot(EP, y128, label='128', marker='o')\n",
    "plt.plot(EP, y256, label='256', marker='o')\n",
    "\n",
    "plt.title('Model Prediction Accuracy (TRAIN SET)')\n",
    "plt.xlabel('EPOCHS')\n",
    "plt.ylabel('% Acc')\n",
    "plt.xticks([50, 100, 150])\n",
    "plt.legend(title='HIDDEN NODES')\n",
    "plt.show()"
   ]
  },
  {
   "cell_type": "markdown",
   "metadata": {},
   "source": [
    "## TEST SET"
   ]
  },
  {
   "cell_type": "code",
   "execution_count": 36,
   "metadata": {},
   "outputs": [
    {
     "name": "stdout",
     "output_type": "stream",
     "text": [
      "       HID COL            \n",
      "            64   128   256\n",
      "EP 50     4726  4736  4652\n",
      "   100    4834  4749  4693\n",
      "   150    4888  4891  4919\n"
     ]
    },
    {
     "data": {
      "image/png": "[encoded data removed]",
      "text/plain": [
       "<Figure size 432x288 with 1 Axes>"
      ]
     },
     "metadata": {
      "needs_background": "light"
     },
     "output_type": "display_data"
    }
   ],
   "source": [
    "## number True vs epoch\n",
    "import pandas as pd\n",
    "import matplotlib.pyplot as plt\n",
    "\n",
    "TRAIN_SET = 5435 *[1]\n",
    "\n",
    "ind = [('EP', '50'), ('EP', '100'), ('EP', '150')]\n",
    "col = [('HID COL', '64'), ('HID COL', '128'), ('HID COL', '256')]\n",
    "\n",
    "data = [[4726, 4736, 4652], [4834, 4749, 4693], [4888, 4891, 4919]]\n",
    "\n",
    "df = pd.DataFrame(data, index=ind, columns=col)\n",
    "\n",
    "df.columns = pd.MultiIndex.from_tuples(df.columns)\n",
    "df.index = pd.MultiIndex.from_tuples(df.index)\n",
    "\n",
    "print(df)\n",
    "\n",
    "y0 = df.loc[df.index[0], ('HID COL', '64')] / len(TRAIN_SET) *100\n",
    "y1= df.loc[df.index[1], ('HID COL', '64')] / len(TRAIN_SET) *100\n",
    "y2 = df.loc[df.index[2], ('HID COL', '64')] / len(TRAIN_SET) * 100\n",
    "\n",
    "y64 = [y0, y1, y2]\n",
    "\n",
    "y0 = df.loc[df.index[0], ('HID COL', '128')] / len(TRAIN_SET) *100\n",
    "y1= df.loc[df.index[1], ('HID COL', '128')] / len(TRAIN_SET) *100\n",
    "y2 = df.loc[df.index[2], ('HID COL', '128')] / len(TRAIN_SET) *100\n",
    "\n",
    "y128 = [y0, y1, y2]\n",
    "\n",
    "y0 = df.loc[df.index[0], ('HID COL', '256')] / len(TRAIN_SET) *100\n",
    "y1= df.loc[df.index[1], ('HID COL', '256')] / len(TRAIN_SET) *100\n",
    "y2 = df.loc[df.index[2], ('HID COL', '256')] / len(TRAIN_SET) *100\n",
    "\n",
    "y256 = [y0, y1, y2]\n",
    "\n",
    "EP = [50, 100, 150]\n",
    "\n",
    "plt.plot(EP, y64, label='64', marker='o')\n",
    "plt.plot(EP, y128, label='128', marker='o')\n",
    "plt.plot(EP, y256, label='256', marker='o')\n",
    "\n",
    "plt.title('Model Prediction Accuracy (TEST SET)')\n",
    "plt.xlabel('EPOCHS')\n",
    "plt.ylabel('% Acc')\n",
    "plt.xticks([50, 100, 150])\n",
    "plt.legend(title='HIDDEN NODES')\n",
    "plt.show()"
   ]
  }
 ],
 "metadata": {
  "kernelspec": {
   "display_name": "Python 3",
   "language": "python",
   "name": "python3"
  },
  "language_info": {
   "codemirror_mode": {
    "name": "ipython",
    "version": 3
   },
   "file_extension": ".py",
   "mimetype": "text/x-python",
   "name": "python",
   "nbconvert_exporter": "python",
   "pygments_lexer": "ipython3",
   "version": "3.7.3"
  }
 },
 "nbformat": 4,
 "nbformat_minor": 2
}
